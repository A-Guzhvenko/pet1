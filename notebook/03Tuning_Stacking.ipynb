{
 "cells": [
  {
   "cell_type": "code",
   "execution_count": 1,
   "id": "593deb1e-fd21-406b-a80e-a4932ee48d5c",
   "metadata": {
    "tags": []
   },
   "outputs": [],
   "source": [
    "import os\n",
    "import sys\n",
    "\n",
    "sys.path.append(os.path.abspath(os.path.join(os.getcwd(), \"..\")))\n",
    "\n",
    "from src.stack_fun import cyrillic_to_latin, check_overfitting, cross_validation_regressor, \\\n",
    "    calibrate_predictions, plot_residuals_vs_predictions, StackingRegressorCV, \\\n",
    "    fill_mode_group_by, fill_missing_values\n",
    "import numpy as np\n",
    "import pandas as pd\n",
    "\n",
    "from sklearn.metrics import mean_absolute_error, mean_squared_error\n",
    "from sklearn.model_selection import train_test_split, GridSearchCV, KFold\n",
    "\n",
    "from sklearn.isotonic import IsotonicRegression\n",
    "from sklearn.linear_model import LinearRegression, QuantileRegressor\n",
    "from sklearn.inspection import permutation_importance\n",
    "\n",
    "from lightgbm import LGBMRegressor\n",
    "from lightgbm import early_stopping\n",
    "import lightgbm as lgb\n",
    "from catboost import Pool, CatBoostRegressor\n",
    "from transliterate import translit\n",
    "\n",
    "from optuna.visualization.matplotlib import plot_param_importances\n",
    "from optuna.visualization.matplotlib import plot_optimization_history\n",
    "from optuna.visualization.matplotlib import plot_timeline\n",
    "from optuna.terminator import report_cross_validation_scores\n",
    "\n",
    "from src.get_metrics import get_metrics_regression, rmsle, mean_absolute_error\n",
    "\n",
    "import matplotlib.pyplot as plt\n",
    "import seaborn as sns\n",
    "\n",
    "from tqdm.notebook import tqdm\n",
    "import optuna\n",
    "import shap\n",
    "\n",
    "import warnings\n",
    "from warnings import simplefilter\n",
    "warnings.filterwarnings(\"ignore\")\n",
    "simplefilter(\"ignore\", category=RuntimeWarning)\n",
    "\n",
    "\n",
    "RAND = 25\n",
    "N_FOLDS = 5"
   ]
  },
  {
   "cell_type": "markdown",
   "id": "8152ccb5-a381-47ae-b164-f4a20e6280f4",
   "metadata": {},
   "source": [
    "## Tuning and Ensemble Learning"
   ]
  },
  {
   "cell_type": "code",
   "execution_count": 2,
   "id": "e7eef165-19b5-4d89-b976-6e108d43ec1f",
   "metadata": {
    "tags": []
   },
   "outputs": [],
   "source": [
    "parent_dir = os.path.abspath(os.path.join(os.getcwd(), \"..\"))\n",
    "dataset_path = os.path.join(parent_dir, \"data\", \"df_base.csv\")"
   ]
  },
  {
   "cell_type": "code",
   "execution_count": 3,
   "id": "f15d4b41-39bb-456a-a508-6c80f541c87c",
   "metadata": {
    "tags": []
   },
   "outputs": [],
   "source": [
    "# Loading data\n",
    "df = pd.read_csv(dataset_path, index_col=0)"
   ]
  },
  {
   "cell_type": "markdown",
   "id": "42377f89-73ba-449c-b953-a2036c957772",
   "metadata": {},
   "source": [
    "#### **Goal:**  \n",
    "To create a more robust and accurate model by combining the best qualities of different algorithms through tuning and ensemble learning.\n",
    "\n",
    "We will use the same set of features as the baseline models for tuning and ensemble learning:\n",
    "\n",
    "#### **Features:**\n",
    "1. **price**: The property price.  \n",
    "2. **district_value**: City district.  \n",
    "3. **address_value**: Postal address.  \n",
    "4. **house_type_value**: Type of building.  \n",
    "5. **apartment_type**: Type of apartment.  \n",
    "6. **renovation**: Renovation type.  \n",
    "7. **area_documents**: Documented area.  \n",
    "8. **floor**: Floor number.  \n",
    "9. **balcony_loggia**: Presence of a balcony/loggia.  \n",
    "10. **construction_status**: Building status (completed/not completed).  \n",
    "11. **mortgage**: Mortgage suitability (yes/no).  \n",
    "12. **year**: Year of construction.  \n",
    "13. **building_age**: Age of the building in years.  \n",
    "14. **city**: City name.  \n",
    "15. **price_per_meter**: Price per square meter.  \n",
    "16. **announcement_age**: Age of the listing in months.  \n",
    "17. **floor_area**: Total number of floors in the building.  \n",
    "18. **distance**: Distance to the city center.  \n",
    "19. **price_log**: Logarithm of the price.  \n",
    "20. **age_bin**: Binned building age.  \n",
    "21. **floor_bin**: Binned floor number of the apartment."
   ]
  },
  {
   "cell_type": "code",
   "execution_count": 4,
   "id": "b88aa68d-eab9-4af8-a2e0-78eae41018c7",
   "metadata": {
    "tags": []
   },
   "outputs": [
    {
     "data": {
      "text/plain": [
       "Index(['district_value', 'address_value', 'house_type_value', 'apartment_type',\n",
       "       'renovation', 'balcony_loggia', 'construction_status', 'mortgage',\n",
       "       'city', 'age_bin', 'floor_bin'],\n",
       "      dtype='object')"
      ]
     },
     "execution_count": 4,
     "metadata": {},
     "output_type": "execute_result"
    }
   ],
   "source": [
    "# Generate a list of categorical columnsв\n",
    "cat_cols = df.select_dtypes('object').columns\n",
    "cat_cols"
   ]
  },
  {
   "cell_type": "code",
   "execution_count": 5,
   "id": "7c944b50-4b5b-4f28-be3e-81d48580a101",
   "metadata": {
    "tags": []
   },
   "outputs": [],
   "source": [
    "# convert to category\n",
    "df[cat_cols] = df[cat_cols].astype(\"category\")"
   ]
  },
  {
   "cell_type": "code",
   "execution_count": 6,
   "id": "50d602ce-18b3-4fd1-bf6e-4c0d1a738b78",
   "metadata": {
    "tags": []
   },
   "outputs": [
    {
     "name": "stdout",
     "output_type": "stream",
     "text": [
      "<class 'pandas.core.frame.DataFrame'>\n",
      "Index: 22788 entries, 0 to 22787\n",
      "Data columns (total 21 columns):\n",
      " #   Column               Non-Null Count  Dtype   \n",
      "---  ------               --------------  -----   \n",
      " 0   price                22788 non-null  float64 \n",
      " 1   district_value       22456 non-null  category\n",
      " 2   address_value        22788 non-null  category\n",
      " 3   house_type_value     17221 non-null  category\n",
      " 4   apartment_type       22788 non-null  category\n",
      " 5   renovation           16081 non-null  category\n",
      " 6   area_documents       22788 non-null  float64 \n",
      " 7   floor                22788 non-null  int64   \n",
      " 8   balcony_loggia       22788 non-null  category\n",
      " 9   construction_status  22788 non-null  category\n",
      " 10  mortgage             22788 non-null  category\n",
      " 11  year                 10246 non-null  float64 \n",
      " 12  building_age         10246 non-null  float64 \n",
      " 13  city                 22788 non-null  category\n",
      " 14  price_per_meter      22788 non-null  float64 \n",
      " 15  announcement_age     22788 non-null  int64   \n",
      " 16  floor_area           22788 non-null  int64   \n",
      " 17  distance             22788 non-null  float64 \n",
      " 18  price_log            22788 non-null  float64 \n",
      " 19  age_bin              10118 non-null  category\n",
      " 20  floor_bin            22788 non-null  category\n",
      "dtypes: category(11), float64(7), int64(3)\n",
      "memory usage: 2.4 MB\n"
     ]
    }
   ],
   "source": [
    "df.info()"
   ]
  },
  {
   "cell_type": "code",
   "execution_count": 7,
   "id": "cb5f1729-b454-42f2-b8d0-4815b136bb82",
   "metadata": {
    "tags": []
   },
   "outputs": [
    {
     "name": "stdout",
     "output_type": "stream",
     "text": [
      "Number of omissions by column in percent:\n"
     ]
    },
    {
     "data": {
      "text/plain": [
       "price                   0.00\n",
       "district_value          1.46\n",
       "address_value           0.00\n",
       "house_type_value       24.43\n",
       "apartment_type          0.00\n",
       "renovation             29.43\n",
       "area_documents          0.00\n",
       "floor                   0.00\n",
       "balcony_loggia          0.00\n",
       "construction_status     0.00\n",
       "mortgage                0.00\n",
       "year                   55.04\n",
       "building_age           55.04\n",
       "city                    0.00\n",
       "price_per_meter         0.00\n",
       "announcement_age        0.00\n",
       "floor_area              0.00\n",
       "distance                0.00\n",
       "price_log               0.00\n",
       "age_bin                55.60\n",
       "floor_bin               0.00\n",
       "dtype: float64"
      ]
     },
     "execution_count": 7,
     "metadata": {},
     "output_type": "execute_result"
    }
   ],
   "source": [
    "print(\"Number of omissions by column in percent:\")\n",
    "round(df.isnull().mean() * 100, 2)"
   ]
  },
  {
   "cell_type": "code",
   "execution_count": 8,
   "id": "10d0586d-5cdd-41cc-a5c5-180fa3773ce6",
   "metadata": {
    "tags": []
   },
   "outputs": [],
   "source": [
    "# Create a dictionary specifying the features to fill and the features for grouping.\n",
    "fill_dict = {\n",
    "    'district_value': 'city',    # Fill the district of the city with the mode based on the city\n",
    "    'house_type_value': 'city',  # Fill the house type with the mode based on the city\n",
    "    'renovation': 'city',        # Fill the renovation type with the mode based on the city\n",
    "    'year': 'city',              # Fill the year the house was built with the mode based on the city\n",
    "    'building_age': 'city',      # Fill the building age with the mode based on the city\n",
    "    'age_bin': 'city',           # Fill the age bin with the mode based on the city\n",
    "}"
   ]
  },
  {
   "cell_type": "markdown",
   "id": "055bffeb-5e6c-4101-9eb0-19f5e4057723",
   "metadata": {},
   "source": [
    "### Splitting Features for Two LGBM Models:\n",
    "\n",
    "Based on the data from **permutation_importance** obtained from the baseline, the features show a clear distinction in importance. The feature `area_documents` stands out significantly with an importance of 0.65, while the remaining features have much lower values. To achieve **model diversity** in stacking, we consider the following strategy for feature division between the models.\n",
    "\n",
    "1. **LGBM Tune 1**: Accesses the most important feature, `area_documents`, along with some less significant features to create a model heavily reliant on the most important feature.\n",
    "2. **LGBM Tune 2**: Excludes the `area_documents` feature but uses other features, forcing the model to seek alternative dependencies, enhancing diversity.\n",
    "\n",
    "### **LGBM Tune 1 (Strong Model)**:\n",
    "   - **Features**:\n",
    "     - 'area_documents': the most important feature, 0.74\n",
    "     - 'district_value': 0.17\n",
    "     - 'address_value': 0.076\n",
    "     - 'floor_area': 0.033\n",
    "     - 'year': 0.023\n",
    "          \n",
    "     - **Goal**: This model is considered the primary one, relying on important features to make strong predictions.\n",
    "\n",
    "### **LGBM Tune 2 (Model Focused on Other Features)**:\n",
    "   - **Features**:\n",
    "     - 'city': 0.024\n",
    "     - 'distance': 0.02\n",
    "     - 'renovation': 0.02\n",
    "     - 'balcony_loggia': 0.015\n",
    "     - 'floor': 0.007\n",
    "     - 'apartment_type': 0.006\n",
    "     - 'construction_status': 0.003\n",
    "     - 'house_type_value': 0.003\n",
    "     - 'announcement_age': 0.002\n",
    "     - 'mortgage': 0.001\n",
    "     \n",
    "     - **Goal**: This model focuses on less significant features, which promotes the discovery of additional patterns and enhances diversity in stacking.\n",
    "\n",
    "### **Features to Exclude**:\n",
    "   Features with very low importance (`age_bin`, `building_age`, `floor_bin`) can be excluded from the models, as their impact on predictions is minimal:\n",
    "   \n",
    "     - 'age_bin': 0.0005\n",
    "     - 'building_age': 0.00\n",
    "     - 'floor_bin': -0.000022\n",
    "  \n",
    "### **Considering CatBoost in Stacking**:\n",
    "   CatBoost will use all features, including `area_documents`, as it demonstrated strong performance in the baseline with the full dataset. This will provide the meta-model with a stronger foundation for final predictions.\n",
    "\n",
    "### **Adopted Feature Division**:\n",
    "- **LGBM Tune 1** will rely on the key feature `area_documents`, making it accurate but dependent on this feature.\n",
    "- **LGBM Tune 2** will be forced to uncover patterns in less significant features, enhancing its diversity.\n",
    "- **CatBoost**, leveraging the full set of features, will add additional non-linearity to the stacking model.\n",
    "\n",
    "This division strengthens model diversity in stacking. **LGBM Tune 1** focuses on the primary important feature, while **LGBM Tune 2** is forced to derive insights from less significant features, providing a balance between accuracy and diversity in predictions.\n"
   ]
  },
  {
   "cell_type": "markdown",
   "id": "758c8a27-836c-4195-b1cd-3dad9fb8fa50",
   "metadata": {
    "tags": []
   },
   "source": [
    "#### Выделяем наборы признаков для моделей"
   ]
  },
  {
   "cell_type": "code",
   "execution_count": 9,
   "id": "877917d5-a564-4cef-9f51-d46ee4c46cde",
   "metadata": {
    "tags": []
   },
   "outputs": [],
   "source": [
    "# Features for the LGBM Tune 1 model\n",
    "features_lgbm_1 = ['area_documents', 'district_value',\n",
    "                   'address_value', 'floor_area', 'year']\n",
    "\n",
    "X_lgbm_1 = df[features_lgbm_1]"
   ]
  },
  {
   "cell_type": "code",
   "execution_count": 10,
   "id": "26323cf1-d3db-44e0-a309-ac7c7b11870c",
   "metadata": {
    "tags": []
   },
   "outputs": [],
   "source": [
    "# Features for the LGBM Tune 2 model\n",
    "features_lgbm_2 = ['city', 'distance', 'renovation', 'balcony_loggia', 'floor',\n",
    "                   'apartment_type', 'construction_status',\n",
    "                   'house_type_value', 'announcement_age', 'mortgage']\n",
    "\n",
    "X_lgbm_2 = df[features_lgbm_2]\n",
    "\n",
    "# Form a dictionary with the attributes for filling and features for grouping.\n",
    "fill_dict_lgbm_2 = {\n",
    "   'house_type_value': 'city',  # Fill in the house type in a city-specific mode\n",
    "   'renovation': 'city',        # Fill in the repair type with a mode with the city in mind\n",
    "}"
   ]
  },
  {
   "cell_type": "markdown",
   "id": "ececad5d-745d-4623-a183-3ef2ba615bb0",
   "metadata": {
    "tags": []
   },
   "source": [
    "## The first model of LightGBM Tune 1"
   ]
  },
  {
   "cell_type": "markdown",
   "id": "03198305-49eb-4e52-916a-bffe5c0ff72d",
   "metadata": {},
   "source": [
    "Since the **baseline** model was trained with the full set of features, relying solely on the obtained metrics is not entirely accurate. We will train **LGBM Tune 1** and **LGBM Tune 2** with the separated features on the baseline. Additionally, we will evaluate metrics using various loss functions that are robust to the non-normal distribution of the target variable (by default, LGBMRegressor uses the MSE function). \n",
    "\n",
    "The target variable 'price' can be expressed through 'price_log' and 'price_per_meter'. During training, we will compare the MAE metric for these targets, after scaling them back to the 'price' dimension. Ultimately, the models with the best metrics will be further fine-tuned using **optuna**."
   ]
  },
  {
   "cell_type": "markdown",
   "id": "476233ee-ab51-4580-935f-0bd3430335bb",
   "metadata": {},
   "source": [
    "#### Обучение на baseline с различными метриками и таргетами LGBM Tune 1"
   ]
  },
  {
   "cell_type": "code",
   "execution_count": 11,
   "id": "bd9f6dd3-971f-4d8c-abf8-2ed447f2610c",
   "metadata": {
    "tags": []
   },
   "outputs": [],
   "source": [
    "targets = ['price_log', 'price', 'price_per_meter']\n",
    "\n",
    "y = df[targets]\n",
    "\n",
    "loss_funs = [\n",
    "    {'objective': 'mae'},\n",
    "    {'objective': 'huber', 'alpha': 3450000},\n",
    "    {'objective': 'quantile', 'alpha': 0.5}\n",
    "]\n",
    "\n",
    "X_train, X_test, y_train, y_test_1 = train_test_split(X_lgbm_1,\n",
    "                                                      y,\n",
    "                                                      test_size=0.2,\n",
    "                                                      shuffle=True,\n",
    "                                                      random_state=RAND)\n",
    "\n",
    "X_train_, X_val, y_train__1, y_val_1 = train_test_split(X_train,\n",
    "                                                        y_train,\n",
    "                                                        test_size=0.16,\n",
    "                                                        shuffle=True,\n",
    "                                                        random_state=RAND)\n",
    "\n",
    "# Заполняем пропуски\n",
    "X_train['district_value'].fillna(X_train['district_value'].mode()[0])\n",
    "X_test['district_value'].fillna(X_test['district_value'].mode()[0])\n",
    "X_train_['district_value'].fillna(X_train_['district_value'].mode()[0])\n",
    "X_val['district_value'].fillna(X_val['district_value'].mode()[0])\n",
    "\n",
    "X_train['year'].fillna(X_train['year'].mode()[0])\n",
    "X_test['year'].fillna(X_test['year'].mode()[0])\n",
    "X_train_['year'].fillna(X_train_['year'].mode()[0])\n",
    "X_val['year'].fillna(X_val['year'].mode()[0])\n",
    "\n",
    "overfitting = pd.DataFrame()"
   ]
  },
  {
   "cell_type": "code",
   "execution_count": 12,
   "id": "a1ab99b0-34e8-4959-a1b9-79c592c64b54",
   "metadata": {
    "tags": []
   },
   "outputs": [
    {
     "name": "stdout",
     "output_type": "stream",
     "text": [
      "Training until validation scores don't improve for 100 rounds\n",
      "Did not meet early stopping. Best iteration is:\n",
      "[100]\tvalid_0's l1: 0.118654\n",
      "price_log\n",
      "Training until validation scores don't improve for 100 rounds\n",
      "Did not meet early stopping. Best iteration is:\n",
      "[99]\tvalid_0's l1: 0.117931\tvalid_0's huber: 0.022384\n",
      "price_log\n",
      "Training until validation scores don't improve for 100 rounds\n",
      "Did not meet early stopping. Best iteration is:\n",
      "[100]\tvalid_0's l1: 0.117999\tvalid_0's quantile: 0.0589997\n",
      "price_log\n",
      "Training until validation scores don't improve for 100 rounds\n",
      "Did not meet early stopping. Best iteration is:\n",
      "[100]\tvalid_0's l1: 891773\n",
      "Training until validation scores don't improve for 100 rounds\n",
      "Did not meet early stopping. Best iteration is:\n",
      "[100]\tvalid_0's l1: 925995\tvalid_0's huber: 1.16667e+12\n",
      "Training until validation scores don't improve for 100 rounds\n",
      "Did not meet early stopping. Best iteration is:\n",
      "[100]\tvalid_0's l1: 887259\tvalid_0's quantile: 443630\n",
      "Training until validation scores don't improve for 100 rounds\n",
      "Did not meet early stopping. Best iteration is:\n",
      "[100]\tvalid_0's l1: 15792\n",
      "Training until validation scores don't improve for 100 rounds\n",
      "Did not meet early stopping. Best iteration is:\n",
      "[40]\tvalid_0's l1: 17854.3\tvalid_0's huber: 1.16633e+09\n",
      "Training until validation scores don't improve for 100 rounds\n",
      "Did not meet early stopping. Best iteration is:\n",
      "[100]\tvalid_0's l1: 15792\tvalid_0's quantile: 7896.02\n"
     ]
    }
   ],
   "source": [
    "for target in targets:\n",
    "    y_train_ = y_train__1[target]\n",
    "    y_test = y_test_1[target]\n",
    "    y_val = y_val_1[target]\n",
    "\n",
    "    for loss_fun in loss_funs:\n",
    "\n",
    "        early_stopping_callback = early_stopping(stopping_rounds=100)\n",
    "\n",
    "        lgbm_base = LGBMRegressor(\n",
    "            random_state=RAND, **loss_fun, verbosity=-1)\n",
    "\n",
    "        eval_set = [(X_val, y_val)]\n",
    "\n",
    "        lgbm_base.fit(X_train_,\n",
    "                      y_train_,\n",
    "                      eval_metric=\"mae\",\n",
    "                      eval_set=eval_set,\n",
    "                      callbacks=[early_stopping_callback],\n",
    "                      )\n",
    "\n",
    "        if target == 'price_log':\n",
    "            y_train_pl = np.exp(y_train_) - 1\n",
    "            y_test_pl = np.exp(y_test) - 1\n",
    "            print(target)\n",
    "            overfitting = pd.concat(\n",
    "                [overfitting, check_overfitting(lgbm_base,\n",
    "                                                X_train_,\n",
    "                                                y_train_pl,\n",
    "                                                X_test,\n",
    "                                                y_test_pl,\n",
    "                                                metric_fun=mean_absolute_error,\n",
    "                                                target_name=target,\n",
    "                                                loss_fun=loss_fun.get('objective'))\n",
    "                 ])\n",
    "\n",
    "        if target == 'price_per_meter':\n",
    "            y_train_pm = y_train_*X_train_['area_documents']\n",
    "            y_test_pm = y_test*X_test['area_documents']\n",
    "\n",
    "            overfitting = pd.concat(\n",
    "                [overfitting, check_overfitting(lgbm_base,\n",
    "                                                X_train_,\n",
    "                                                y_train_pm,\n",
    "                                                X_test,\n",
    "                                                y_test_pm,\n",
    "                                                metric_fun=mean_absolute_error,\n",
    "                                                target_name=target,\n",
    "                                                loss_fun=loss_fun.get('objective'))\n",
    "                 ])\n",
    "\n",
    "        if target != 'price_per_meter' and target != 'price_log':\n",
    "\n",
    "            overfitting = pd.concat(\n",
    "                [overfitting, check_overfitting(lgbm_base,\n",
    "                                                X_train_,\n",
    "                                                y_train_,\n",
    "                                                X_test,\n",
    "                                                y_test,\n",
    "                                                metric_fun=mean_absolute_error,\n",
    "                                                target_name=target,\n",
    "                                                loss_fun=loss_fun.get('objective'))\n",
    "                 ])"
   ]
  },
  {
   "cell_type": "code",
   "execution_count": 13,
   "id": "700b9f77-c952-4529-b329-95b03bd41f68",
   "metadata": {
    "tags": []
   },
   "outputs": [
    {
     "data": {
      "text/html": [
       "<div>\n",
       "<style scoped>\n",
       "    .dataframe tbody tr th:only-of-type {\n",
       "        vertical-align: middle;\n",
       "    }\n",
       "\n",
       "    .dataframe tbody tr th {\n",
       "        vertical-align: top;\n",
       "    }\n",
       "\n",
       "    .dataframe thead th {\n",
       "        text-align: right;\n",
       "    }\n",
       "</style>\n",
       "<table border=\"1\" class=\"dataframe\">\n",
       "  <thead>\n",
       "    <tr style=\"text-align: right;\">\n",
       "      <th></th>\n",
       "      <th>loss_fun</th>\n",
       "      <th>train</th>\n",
       "      <th>test</th>\n",
       "      <th>delta</th>\n",
       "    </tr>\n",
       "    <tr>\n",
       "      <th>target_name</th>\n",
       "      <th></th>\n",
       "      <th></th>\n",
       "      <th></th>\n",
       "      <th></th>\n",
       "    </tr>\n",
       "  </thead>\n",
       "  <tbody>\n",
       "    <tr>\n",
       "      <th>price_log</th>\n",
       "      <td>mae</td>\n",
       "      <td>8121813.93</td>\n",
       "      <td>8124003.03</td>\n",
       "      <td>0.03</td>\n",
       "    </tr>\n",
       "    <tr>\n",
       "      <th>price_log</th>\n",
       "      <td>huber</td>\n",
       "      <td>8121813.94</td>\n",
       "      <td>8124003.04</td>\n",
       "      <td>0.03</td>\n",
       "    </tr>\n",
       "    <tr>\n",
       "      <th>price_log</th>\n",
       "      <td>quantile</td>\n",
       "      <td>8121813.93</td>\n",
       "      <td>8124003.03</td>\n",
       "      <td>0.03</td>\n",
       "    </tr>\n",
       "    <tr>\n",
       "      <th>price</th>\n",
       "      <td>mae</td>\n",
       "      <td>865095.08</td>\n",
       "      <td>914915.83</td>\n",
       "      <td>5.45</td>\n",
       "    </tr>\n",
       "    <tr>\n",
       "      <th>price</th>\n",
       "      <td>huber</td>\n",
       "      <td>877698.35</td>\n",
       "      <td>948500.20</td>\n",
       "      <td>7.46</td>\n",
       "    </tr>\n",
       "    <tr>\n",
       "      <th>price</th>\n",
       "      <td>quantile</td>\n",
       "      <td>855063.67</td>\n",
       "      <td>905285.13</td>\n",
       "      <td>5.55</td>\n",
       "    </tr>\n",
       "    <tr>\n",
       "      <th>price_per_meter</th>\n",
       "      <td>mae</td>\n",
       "      <td>7962713.14</td>\n",
       "      <td>7965282.19</td>\n",
       "      <td>0.03</td>\n",
       "    </tr>\n",
       "    <tr>\n",
       "      <th>price_per_meter</th>\n",
       "      <td>huber</td>\n",
       "      <td>7959058.94</td>\n",
       "      <td>7961466.27</td>\n",
       "      <td>0.03</td>\n",
       "    </tr>\n",
       "    <tr>\n",
       "      <th>price_per_meter</th>\n",
       "      <td>quantile</td>\n",
       "      <td>7962713.14</td>\n",
       "      <td>7965282.19</td>\n",
       "      <td>0.03</td>\n",
       "    </tr>\n",
       "  </tbody>\n",
       "</table>\n",
       "</div>"
      ],
      "text/plain": [
       "                 loss_fun       train        test  delta\n",
       "target_name                                             \n",
       "price_log             mae  8121813.93  8124003.03   0.03\n",
       "price_log           huber  8121813.94  8124003.04   0.03\n",
       "price_log        quantile  8121813.93  8124003.03   0.03\n",
       "price                 mae   865095.08   914915.83   5.45\n",
       "price               huber   877698.35   948500.20   7.46\n",
       "price            quantile   855063.67   905285.13   5.55\n",
       "price_per_meter       mae  7962713.14  7965282.19   0.03\n",
       "price_per_meter     huber  7959058.94  7961466.27   0.03\n",
       "price_per_meter  quantile  7962713.14  7965282.19   0.03"
      ]
     },
     "execution_count": 13,
     "metadata": {},
     "output_type": "execute_result"
    }
   ],
   "source": [
    "round(overfitting.set_index('target_name'), 2)"
   ]
  },
  {
   "cell_type": "markdown",
   "id": "d3178fa7-bc24-4b7e-882d-c0388cf7d98e",
   "metadata": {},
   "source": [
    "#### Configuring LGBM Tune 1 with optuna."
   ]
  },
  {
   "cell_type": "markdown",
   "id": "fa19f9a4-77fa-4f42-8959-c92ad26cb2cc",
   "metadata": {},
   "source": [
    " The minimum error on **train** and **test** was obtained using the target variable **price** and the loss function **quantile**. Next, we determine the optimal hyperparameters for the model.  Let us focus the tuning on minimizing the error by allowing the value of overtraining not more than 10%."
   ]
  },
  {
   "cell_type": "code",
   "execution_count": 14,
   "id": "017c466b-ae2a-46fa-ae69-6bcec1ce7469",
   "metadata": {
    "tags": []
   },
   "outputs": [],
   "source": [
    "# target function\n",
    "def objective_lgb(trial, X, y, N_FOLDS, random_state=RAND):\n",
    "    lgb_params = {\n",
    "        \"n_estimators\": trial.suggest_categorical(\"n_estimators\", [1400]),\n",
    "        # \"n_estimators\": trial.suggest_int(\"n_estimators\", 500, 3000, step=50),\n",
    "        \"learning_rate\": trial.suggest_categorical(\"learning_rate\", [0.14302204815394245]),\n",
    "        # \"learning_rate\": trial.suggest_float(\"learning_rate\",\n",
    "        #                                       0.001,\n",
    "        #                                       0.3, log=True),\n",
    "        \"num_leaves\": trial.suggest_int(\"num_leaves\", 70, 100, step=1),\n",
    "        \"max_depth\": trial.suggest_int(\"max_depth\", 5, 8),\n",
    "        # \"max_bin\": trial.suggest_int(\"max_bin\", 512, 2048),\n",
    "        \"min_child_samples\": trial.suggest_int(\"min_child_samples\", 136, 146, step=2),\n",
    "        # \"reg_alpha\": trial.suggest_int(\"reg_alpha\", 125, 140),\n",
    "        # \"reg_lambda\": trial.suggest_int(\"reg_lambda\", 70, 80),\n",
    "        # \"min_split_gain\": trial.suggest_int(\"min_split_gain\", 0, 20),\n",
    "        # \"subsample\": trial.suggest_float(\"subsample\", 0.2, 1.0),\n",
    "        # \"subsample_freq\": trial.suggest_categorical(\"subsample_freq\", [1]),\n",
    "        \"colsample_bytree\": trial.suggest_float(\"colsample_bytree\", 0.5, 0.7),\n",
    "        \"objective\": trial.suggest_categorical(\"objective\", ['quantile']),\n",
    "        \"alpha\": trial.suggest_categorical(\"alpha\", [0.5]),\n",
    "        \"random_state\": trial.suggest_categorical(\"random_state\", [random_state])\n",
    "    }\n",
    "\n",
    "    cv = KFold(n_splits=N_FOLDS, shuffle=True)\n",
    "    early_stopping_callback = early_stopping(stopping_rounds=100)\n",
    "\n",
    "    cv_predicts = np.empty(N_FOLDS)\n",
    "    for idx, (train_idx, test_idx) in enumerate(cv.split(X, y)):\n",
    "        X_train, X_test = X.iloc[train_idx], X.iloc[test_idx]\n",
    "        y_train, y_test = y.iloc[train_idx], y.iloc[test_idx]\n",
    "\n",
    "        pruning_callback = optuna.integration.LightGBMPruningCallback(\n",
    "            trial, \"l1\")\n",
    "        model = LGBMRegressor(**lgb_params, verbosity=-1)\n",
    "        model.fit(X_train,\n",
    "                  y_train,\n",
    "                  eval_set=[(X_test, y_test)],\n",
    "                  eval_metric=\"mae\",\n",
    "                  callbacks=[pruning_callback, early_stopping_callback],\n",
    "                  )\n",
    "\n",
    "        preds = model.predict(X_test)\n",
    "        cv_predicts[idx] = mean_absolute_error(y_test, preds)\n",
    "\n",
    "    return np.mean(cv_predicts)"
   ]
  },
  {
   "cell_type": "code",
   "execution_count": 15,
   "id": "1e2a13ce-8279-415d-8d68-902ffc3f4f05",
   "metadata": {
    "tags": []
   },
   "outputs": [
    {
     "name": "stderr",
     "output_type": "stream",
     "text": [
      "[I 2025-01-13 17:35:21,153] A new study created in memory with name: LightGBM_Tune_1\n"
     ]
    },
    {
     "data": {
      "application/vnd.jupyter.widget-view+json": {
       "model_id": "9364a7ee2a1c42f1b06ee36db5fd1133",
       "version_major": 2,
       "version_minor": 0
      },
      "text/plain": [
       "  0%|          | 0/7 [00:00<?, ?it/s]"
      ]
     },
     "metadata": {},
     "output_type": "display_data"
    },
    {
     "name": "stdout",
     "output_type": "stream",
     "text": [
      "Training until validation scores don't improve for 100 rounds\n",
      "Did not meet early stopping. Best iteration is:\n",
      "[1400]\tvalid_0's l1: 925885\tvalid_0's quantile: 462943\n",
      "Training until validation scores don't improve for 100 rounds\n",
      "Did not meet early stopping. Best iteration is:\n",
      "[1379]\tvalid_0's l1: 876396\tvalid_0's quantile: 438198\n",
      "Training until validation scores don't improve for 100 rounds\n",
      "Did not meet early stopping. Best iteration is:\n",
      "[1396]\tvalid_0's l1: 920193\tvalid_0's quantile: 460096\n",
      "Training until validation scores don't improve for 100 rounds\n",
      "Did not meet early stopping. Best iteration is:\n",
      "[1400]\tvalid_0's l1: 931561\tvalid_0's quantile: 465781\n",
      "Training until validation scores don't improve for 100 rounds\n",
      "Did not meet early stopping. Best iteration is:\n",
      "[1372]\tvalid_0's l1: 951619\tvalid_0's quantile: 475809\n",
      "Training until validation scores don't improve for 100 rounds\n",
      "Did not meet early stopping. Best iteration is:\n",
      "[1387]\tvalid_0's l1: 909010\tvalid_0's quantile: 454505\n",
      "Training until validation scores don't improve for 100 rounds\n",
      "Did not meet early stopping. Best iteration is:\n",
      "[1400]\tvalid_0's l1: 991078\tvalid_0's quantile: 495539\n",
      "Training until validation scores don't improve for 100 rounds\n",
      "Did not meet early stopping. Best iteration is:\n",
      "[1370]\tvalid_0's l1: 928470\tvalid_0's quantile: 464235\n",
      "Training until validation scores don't improve for 100 rounds\n",
      "Did not meet early stopping. Best iteration is:\n",
      "[1396]\tvalid_0's l1: 922696\tvalid_0's quantile: 461348\n",
      "Training until validation scores don't improve for 100 rounds\n",
      "Did not meet early stopping. Best iteration is:\n",
      "[1392]\tvalid_0's l1: 915823\tvalid_0's quantile: 457912\n",
      "Training until validation scores don't improve for 100 rounds\n",
      "Did not meet early stopping. Best iteration is:\n",
      "[1394]\tvalid_0's l1: 954928\tvalid_0's quantile: 477464\n",
      "Training until validation scores don't improve for 100 rounds\n",
      "Did not meet early stopping. Best iteration is:\n",
      "[1394]\tvalid_0's l1: 891747\tvalid_0's quantile: 445874\n",
      "Training until validation scores don't improve for 100 rounds\n",
      "Did not meet early stopping. Best iteration is:\n",
      "[1392]\tvalid_0's l1: 933492\tvalid_0's quantile: 466746\n",
      "Training until validation scores don't improve for 100 rounds\n",
      "Did not meet early stopping. Best iteration is:\n",
      "[1367]\tvalid_0's l1: 940937\tvalid_0's quantile: 470468\n",
      "Training until validation scores don't improve for 100 rounds\n",
      "Did not meet early stopping. Best iteration is:\n",
      "[1400]\tvalid_0's l1: 911976\tvalid_0's quantile: 455988\n",
      "Training until validation scores don't improve for 100 rounds\n",
      "Did not meet early stopping. Best iteration is:\n",
      "[1400]\tvalid_0's l1: 977869\tvalid_0's quantile: 488935\n",
      "Training until validation scores don't improve for 100 rounds\n",
      "Did not meet early stopping. Best iteration is:\n",
      "[1399]\tvalid_0's l1: 893426\tvalid_0's quantile: 446713\n",
      "Training until validation scores don't improve for 100 rounds\n",
      "Did not meet early stopping. Best iteration is:\n",
      "[1400]\tvalid_0's l1: 918974\tvalid_0's quantile: 459487\n",
      "Training until validation scores don't improve for 100 rounds\n",
      "Did not meet early stopping. Best iteration is:\n",
      "[1387]\tvalid_0's l1: 911810\tvalid_0's quantile: 455905\n",
      "Training until validation scores don't improve for 100 rounds\n",
      "Did not meet early stopping. Best iteration is:\n",
      "[1400]\tvalid_0's l1: 890291\tvalid_0's quantile: 445146\n",
      "Training until validation scores don't improve for 100 rounds\n",
      "Did not meet early stopping. Best iteration is:\n",
      "[1400]\tvalid_0's l1: 885542\tvalid_0's quantile: 442771\n",
      "Training until validation scores don't improve for 100 rounds\n",
      "Did not meet early stopping. Best iteration is:\n",
      "[1382]\tvalid_0's l1: 909897\tvalid_0's quantile: 454949\n",
      "Training until validation scores don't improve for 100 rounds\n",
      "Did not meet early stopping. Best iteration is:\n",
      "[1398]\tvalid_0's l1: 939095\tvalid_0's quantile: 469548\n",
      "Training until validation scores don't improve for 100 rounds\n",
      "Did not meet early stopping. Best iteration is:\n",
      "[1400]\tvalid_0's l1: 931661\tvalid_0's quantile: 465831\n",
      "Training until validation scores don't improve for 100 rounds\n",
      "Did not meet early stopping. Best iteration is:\n",
      "[1390]\tvalid_0's l1: 947878\tvalid_0's quantile: 473939\n",
      "Training until validation scores don't improve for 100 rounds\n",
      "Did not meet early stopping. Best iteration is:\n",
      "[1400]\tvalid_0's l1: 888205\tvalid_0's quantile: 444103\n",
      "Training until validation scores don't improve for 100 rounds\n",
      "Did not meet early stopping. Best iteration is:\n",
      "[1400]\tvalid_0's l1: 938367\tvalid_0's quantile: 469183\n",
      "Training until validation scores don't improve for 100 rounds\n",
      "Did not meet early stopping. Best iteration is:\n",
      "[1329]\tvalid_0's l1: 967555\tvalid_0's quantile: 483777\n",
      "Training until validation scores don't improve for 100 rounds\n",
      "Did not meet early stopping. Best iteration is:\n",
      "[1400]\tvalid_0's l1: 884869\tvalid_0's quantile: 442435\n",
      "Training until validation scores don't improve for 100 rounds\n",
      "Did not meet early stopping. Best iteration is:\n",
      "[1400]\tvalid_0's l1: 895004\tvalid_0's quantile: 447502\n",
      "Training until validation scores don't improve for 100 rounds\n",
      "Did not meet early stopping. Best iteration is:\n",
      "[1387]\tvalid_0's l1: 871118\tvalid_0's quantile: 435559\n",
      "Training until validation scores don't improve for 100 rounds\n",
      "Did not meet early stopping. Best iteration is:\n",
      "[1395]\tvalid_0's l1: 943856\tvalid_0's quantile: 471928\n",
      "Training until validation scores don't improve for 100 rounds\n",
      "Did not meet early stopping. Best iteration is:\n",
      "[1400]\tvalid_0's l1: 897634\tvalid_0's quantile: 448817\n",
      "Training until validation scores don't improve for 100 rounds\n",
      "Did not meet early stopping. Best iteration is:\n",
      "[1386]\tvalid_0's l1: 938529\tvalid_0's quantile: 469265\n",
      "Training until validation scores don't improve for 100 rounds\n",
      "Did not meet early stopping. Best iteration is:\n",
      "[1398]\tvalid_0's l1: 960432\tvalid_0's quantile: 480216\n"
     ]
    }
   ],
   "source": [
    "y_train = y_train['price']\n",
    "\n",
    "study = optuna.create_study(direction=\"minimize\", study_name=\"LightGBM_Tune_1\",\n",
    "                            sampler=optuna.samplers.TPESampler(seed=RAND))\n",
    "\n",
    "\n",
    "def func(trial): return objective_lgb(\n",
    "    trial, X_train, y_train, N_FOLDS=N_FOLDS, random_state=RAND)\n",
    "\n",
    "\n",
    "optuna.logging.set_verbosity(optuna.logging.CRITICAL)\n",
    "study.optimize(func, n_trials=7, show_progress_bar=True)"
   ]
  },
  {
   "cell_type": "code",
   "execution_count": 16,
   "id": "590363ff-ce55-4fed-80b5-f46e78b9a8d0",
   "metadata": {
    "tags": []
   },
   "outputs": [
    {
     "name": "stdout",
     "output_type": "stream",
     "text": [
      "\tBest value (mae): 914799.95\n",
      "\tBest params:\n",
      "\t\tn_estimators: 1400\n",
      "\t\tlearning_rate: 0.14302204815394245\n",
      "\t\tnum_leaves: 84\n",
      "\t\tmax_depth: 7\n",
      "\t\tmin_child_samples: 140\n",
      "\t\tcolsample_bytree: 0.6995081791755161\n",
      "\t\tobjective: quantile\n",
      "\t\talpha: 0.5\n",
      "\t\trandom_state: 25\n"
     ]
    }
   ],
   "source": [
    "print(f\"\\tBest value (mae): {study.best_value:.2f}\")\n",
    "print(f\"\\tBest params:\")\n",
    "\n",
    "for key, value in study.best_params.items():\n",
    "    print(f\"\\t\\t{key}: {value}\")"
   ]
  },
  {
   "cell_type": "code",
   "execution_count": 17,
   "id": "e84881c4-e64a-4bc0-8159-db1dba242b02",
   "metadata": {
    "tags": []
   },
   "outputs": [
    {
     "data": {
      "image/png": "[encoded data removed]",
      "text/plain": [
       "<Figure size 640x480 with 1 Axes>"
      ]
     },
     "metadata": {},
     "output_type": "display_data"
    }
   ],
   "source": [
    "LGBM_1_bp = dict(study.best_params.items())\n",
    "\n",
    "plot_param_importances(study);"
   ]
  },
  {
   "cell_type": "markdown",
   "id": "c1d8cacf-6991-4085-8ece-82ca9f2b450f",
   "metadata": {},
   "source": [
    "Training the model with the obtained hyperparameters"
   ]
  },
  {
   "cell_type": "code",
   "execution_count": 18,
   "id": "b40bb90b-09f8-49a1-be2f-e601d039dfab",
   "metadata": {
    "tags": []
   },
   "outputs": [
    {
     "name": "stdout",
     "output_type": "stream",
     "text": [
      "Training until validation scores don't improve for 100 rounds\n",
      "Did not meet early stopping. Best iteration is:\n",
      "[1397]\tvalid_0's l1: 863143\tvalid_0's quantile: 431571\n"
     ]
    }
   ],
   "source": [
    "cat_cols = list(cat_cols)\n",
    "\n",
    "LightGBM_Tune_1 = LGBMRegressor(**LGBM_1_bp, verbosity=-1)\n",
    "\n",
    "early_stopping_callback = early_stopping(stopping_rounds=100)\n",
    "\n",
    "eval_set = [(X_val, y_val_1['price'])]\n",
    "\n",
    "LightGBM_Tune_1.fit(X_train_,\n",
    "                    y_train__1['price'],\n",
    "                    eval_metric=\"l1\",\n",
    "                    eval_set=eval_set,\n",
    "                    callbacks=[early_stopping_callback],\n",
    "                    )\n",
    "\n",
    "eval_set = [(X_val, y_val_1['price'])]\n",
    "\n",
    "y_pred = LightGBM_Tune_1.predict(X_test)"
   ]
  },
  {
   "cell_type": "code",
   "execution_count": 19,
   "id": "f7bea53e-7df9-41fe-a4b8-7bc0b989bc18",
   "metadata": {
    "tags": []
   },
   "outputs": [
    {
     "data": {
      "text/html": [
       "<div>\n",
       "<style scoped>\n",
       "    .dataframe tbody tr th:only-of-type {\n",
       "        vertical-align: middle;\n",
       "    }\n",
       "\n",
       "    .dataframe tbody tr th {\n",
       "        vertical-align: top;\n",
       "    }\n",
       "\n",
       "    .dataframe thead th {\n",
       "        text-align: right;\n",
       "    }\n",
       "</style>\n",
       "<table border=\"1\" class=\"dataframe\">\n",
       "  <thead>\n",
       "    <tr style=\"text-align: right;\">\n",
       "      <th></th>\n",
       "      <th>target_name</th>\n",
       "      <th>loss_fun</th>\n",
       "      <th>train</th>\n",
       "      <th>test</th>\n",
       "      <th>delta</th>\n",
       "    </tr>\n",
       "  </thead>\n",
       "  <tbody>\n",
       "    <tr>\n",
       "      <th>0</th>\n",
       "      <td>price</td>\n",
       "      <td>quantile</td>\n",
       "      <td>800627.784</td>\n",
       "      <td>889874.528</td>\n",
       "      <td>10.029</td>\n",
       "    </tr>\n",
       "  </tbody>\n",
       "</table>\n",
       "</div>"
      ],
      "text/plain": [
       "  target_name  loss_fun       train        test   delta\n",
       "0       price  quantile  800627.784  889874.528  10.029"
      ]
     },
     "execution_count": 19,
     "metadata": {},
     "output_type": "execute_result"
    }
   ],
   "source": [
    "round(check_overfitting(LightGBM_Tune_1,\n",
    "                        X_train_,\n",
    "                        y_train__1['price'],\n",
    "                        X_test,\n",
    "                        y_test_1['price'],\n",
    "                        metric_fun=mean_absolute_error,\n",
    "                        target_name='price',\n",
    "                        loss_fun='quantile'), 3)"
   ]
  },
  {
   "cell_type": "code",
   "execution_count": 20,
   "id": "63bdc8fa-bb9a-423d-a24d-b154c24d06c1",
   "metadata": {
    "tags": []
   },
   "outputs": [
    {
     "data": {
      "text/html": [
       "<div>\n",
       "<style scoped>\n",
       "    .dataframe tbody tr th:only-of-type {\n",
       "        vertical-align: middle;\n",
       "    }\n",
       "\n",
       "    .dataframe tbody tr th {\n",
       "        vertical-align: top;\n",
       "    }\n",
       "\n",
       "    .dataframe thead th {\n",
       "        text-align: right;\n",
       "    }\n",
       "</style>\n",
       "<table border=\"1\" class=\"dataframe\">\n",
       "  <thead>\n",
       "    <tr style=\"text-align: right;\">\n",
       "      <th></th>\n",
       "      <th>MAE</th>\n",
       "      <th>MSE</th>\n",
       "      <th>RMSE</th>\n",
       "      <th>R2 adjusted</th>\n",
       "      <th>MPE_%</th>\n",
       "      <th>MAPE_%</th>\n",
       "      <th>WAPE_%</th>\n",
       "    </tr>\n",
       "    <tr>\n",
       "      <th>model</th>\n",
       "      <th></th>\n",
       "      <th></th>\n",
       "      <th></th>\n",
       "      <th></th>\n",
       "      <th></th>\n",
       "      <th></th>\n",
       "      <th></th>\n",
       "    </tr>\n",
       "  </thead>\n",
       "  <tbody>\n",
       "    <tr>\n",
       "      <th>LightGBM_Tune_1</th>\n",
       "      <td>889874.528</td>\n",
       "      <td>6.006059e+12</td>\n",
       "      <td>2450726.198</td>\n",
       "      <td>0.793</td>\n",
       "      <td>-4.819</td>\n",
       "      <td>13.954</td>\n",
       "      <td>10.954</td>\n",
       "    </tr>\n",
       "  </tbody>\n",
       "</table>\n",
       "</div>"
      ],
      "text/plain": [
       "                        MAE           MSE         RMSE  R2 adjusted  MPE_%  \\\n",
       "model                                                                        \n",
       "LightGBM_Tune_1  889874.528  6.006059e+12  2450726.198        0.793 -4.819   \n",
       "\n",
       "                 MAPE_%  WAPE_%  \n",
       "model                            \n",
       "LightGBM_Tune_1  13.954  10.954  "
      ]
     },
     "execution_count": 20,
     "metadata": {},
     "output_type": "execute_result"
    }
   ],
   "source": [
    "metrics = get_metrics_regression(y_test=y_test_1['price'],\n",
    "                                 y_pred=y_pred,\n",
    "                                 X_test=X_test,\n",
    "                                 name='LightGBM_Tune_1')\n",
    "\n",
    "round(metrics.set_index('model'), 3)"
   ]
  },
  {
   "cell_type": "markdown",
   "id": "aede3cc6-5466-4acf-bc25-f46de0431180",
   "metadata": {},
   "source": [
    "#### Training with crossvalidation LightGBM_Tune_1\n",
    "With the selected hyperparameters, train the model using crossvalidation to find the best parameters."
   ]
  },
  {
   "cell_type": "code",
   "execution_count": 21,
   "id": "59ae1b82-02ca-4b2c-9471-005e10b9f242",
   "metadata": {
    "tags": []
   },
   "outputs": [
    {
     "name": "stdout",
     "output_type": "stream",
     "text": [
      "Fold 1 Validation MAE: 889421.2879\n",
      "Fold 2 Validation MAE: 929566.6071\n",
      "Fold 3 Validation MAE: 940961.2197\n",
      "Fold 4 Validation MAE: 916458.3584\n",
      "Fold 5 Validation MAE: 928275.6673\n"
     ]
    }
   ],
   "source": [
    "score_oof1, predictions_train1, predictions_test1, \\\n",
    "    LGBM_1 = cross_validation_regressor(X_train=X_train,\n",
    "                                        y_train=y_train,\n",
    "                                        X_test=X_test,\n",
    "                                        y_test=y_test_1['price'],\n",
    "                                        clf=lgb.LGBMRegressor,\n",
    "                                        params=LGBM_1_bp,\n",
    "                                        cat_features=None,\n",
    "                                        eval_metric='mae',\n",
    "                                        early_stop=False,\n",
    "                                        early_stopping_rounds=100,\n",
    "                                        num_folds=N_FOLDS,\n",
    "                                        random_state=RAND)"
   ]
  },
  {
   "cell_type": "code",
   "execution_count": 22,
   "id": "b595b7d0-6a77-42ca-b22b-e294cd1bfd97",
   "metadata": {
    "tags": []
   },
   "outputs": [
    {
     "name": "stdout",
     "output_type": "stream",
     "text": [
      "MAE mean OOF: 920936.6281, std: 17564.70\n",
      "MAE HOLDOUT: 876787.96\n"
     ]
    }
   ],
   "source": [
    "print('MAE mean OOF: %.4f, std: %.2f' %\n",
    "      (np.mean(score_oof1), np.std(score_oof1)))\n",
    "print('MAE HOLDOUT: %.2f' % mean_absolute_error(y_test_1['price'], predictions_test1))"
   ]
  },
  {
   "cell_type": "code",
   "execution_count": 23,
   "id": "25937764-c0d5-41f1-9af1-cc03be9b53f4",
   "metadata": {
    "tags": []
   },
   "outputs": [
    {
     "data": {
      "text/html": [
       "<div>\n",
       "<style scoped>\n",
       "    .dataframe tbody tr th:only-of-type {\n",
       "        vertical-align: middle;\n",
       "    }\n",
       "\n",
       "    .dataframe tbody tr th {\n",
       "        vertical-align: top;\n",
       "    }\n",
       "\n",
       "    .dataframe thead th {\n",
       "        text-align: right;\n",
       "    }\n",
       "</style>\n",
       "<table border=\"1\" class=\"dataframe\">\n",
       "  <thead>\n",
       "    <tr style=\"text-align: right;\">\n",
       "      <th></th>\n",
       "      <th>MAE</th>\n",
       "      <th>MSE</th>\n",
       "      <th>RMSE</th>\n",
       "      <th>R2 adjusted</th>\n",
       "      <th>MPE_%</th>\n",
       "      <th>MAPE_%</th>\n",
       "      <th>WAPE_%</th>\n",
       "    </tr>\n",
       "    <tr>\n",
       "      <th>model</th>\n",
       "      <th></th>\n",
       "      <th></th>\n",
       "      <th></th>\n",
       "      <th></th>\n",
       "      <th></th>\n",
       "      <th></th>\n",
       "      <th></th>\n",
       "    </tr>\n",
       "  </thead>\n",
       "  <tbody>\n",
       "    <tr>\n",
       "      <th>LightGBM_Tune_1</th>\n",
       "      <td>889874.528</td>\n",
       "      <td>6.006059e+12</td>\n",
       "      <td>2450726.198</td>\n",
       "      <td>0.793</td>\n",
       "      <td>-4.819</td>\n",
       "      <td>13.954</td>\n",
       "      <td>10.954</td>\n",
       "    </tr>\n",
       "    <tr>\n",
       "      <th>LGBM_1_HOLDOUT</th>\n",
       "      <td>876787.958</td>\n",
       "      <td>6.078179e+12</td>\n",
       "      <td>2465396.348</td>\n",
       "      <td>0.790</td>\n",
       "      <td>-4.906</td>\n",
       "      <td>13.762</td>\n",
       "      <td>10.793</td>\n",
       "    </tr>\n",
       "  </tbody>\n",
       "</table>\n",
       "</div>"
      ],
      "text/plain": [
       "                        MAE           MSE         RMSE  R2 adjusted  MPE_%  \\\n",
       "model                                                                        \n",
       "LightGBM_Tune_1  889874.528  6.006059e+12  2450726.198        0.793 -4.819   \n",
       "LGBM_1_HOLDOUT   876787.958  6.078179e+12  2465396.348        0.790 -4.906   \n",
       "\n",
       "                 MAPE_%  WAPE_%  \n",
       "model                            \n",
       "LightGBM_Tune_1  13.954  10.954  \n",
       "LGBM_1_HOLDOUT   13.762  10.793  "
      ]
     },
     "execution_count": 23,
     "metadata": {},
     "output_type": "execute_result"
    }
   ],
   "source": [
    "metrics = pd.concat(\n",
    "    [metrics, get_metrics_regression(y_test=y_test_1['price'],\n",
    "                                     y_pred=predictions_test1,\n",
    "                                     X_test=X_test,\n",
    "                                     name='LGBM_1_HOLDOUT')\n",
    "     ])\n",
    "\n",
    "round(metrics.set_index('model'), 3)"
   ]
  },
  {
   "cell_type": "markdown",
   "id": "5fb12415-a199-4d4b-a0a9-1af1158c47ee",
   "metadata": {},
   "source": [
    "#### Calibration of the LightGBM_Tune_1 Model Using Isotonic Regression"
   ]
  },
  {
   "cell_type": "markdown",
   "id": "a48d890a-b2cf-45f3-b38b-d6e2acb2d411",
   "metadata": {
    "tags": []
   },
   "source": [
    "After training with cross-validation, we will consider the possibility of using an additional calibrated model in stacking, calibrated using isotonic regression. We will perform the calibration and compare the metrics. Based on the results, a decision will be made regarding which model to use in the stacking process."
   ]
  },
  {
   "cell_type": "code",
   "execution_count": 24,
   "id": "d1796db1-1f17-4a15-8f3c-cc6df64bb52c",
   "metadata": {
    "tags": []
   },
   "outputs": [
    {
     "data": {
      "image/png": "[encoded data removed]",
      "text/plain": [
       "<Figure size 1200x600 with 2 Axes>"
      ]
     },
     "metadata": {},
     "output_type": "display_data"
    }
   ],
   "source": [
    "plot_residuals_vs_predictions(y_test_1['price'], predictions_test1)"
   ]
  },
  {
   "cell_type": "code",
   "execution_count": 25,
   "id": "8a2a98a2-d69b-44fa-b80d-512b7f1b7c73",
   "metadata": {
    "tags": []
   },
   "outputs": [
    {
     "name": "stdout",
     "output_type": "stream",
     "text": [
      "MAE HOLDOUT (calibrated): 898526.811\n"
     ]
    }
   ],
   "source": [
    "# Performing isotonic calibration\n",
    "calibrated_predictions_test1 = calibrate_predictions(\n",
    "    predictions_train1, y_train, predictions_test1)\n",
    "\n",
    "# Evaluation of the MAE metric on calibrated predictions\n",
    "print('MAE HOLDOUT (calibrated): %.3f' %\n",
    "      mean_absolute_error(y_test_1['price'], calibrated_predictions_test1))"
   ]
  },
  {
   "cell_type": "code",
   "execution_count": 26,
   "id": "888d3083-122b-4b0a-a481-a5986fadcd47",
   "metadata": {
    "tags": []
   },
   "outputs": [
    {
     "data": {
      "image/png": "[encoded data removed]",
      "text/plain": [
       "<Figure size 1200x600 with 2 Axes>"
      ]
     },
     "metadata": {},
     "output_type": "display_data"
    }
   ],
   "source": [
    "plot_residuals_vs_predictions(y_test_1['price'], calibrated_predictions_test1)"
   ]
  },
  {
   "cell_type": "code",
   "execution_count": 27,
   "id": "70f45758-25a8-42b9-8416-cc1d4d9290c7",
   "metadata": {
    "tags": []
   },
   "outputs": [
    {
     "data": {
      "text/html": [
       "<div>\n",
       "<style scoped>\n",
       "    .dataframe tbody tr th:only-of-type {\n",
       "        vertical-align: middle;\n",
       "    }\n",
       "\n",
       "    .dataframe tbody tr th {\n",
       "        vertical-align: top;\n",
       "    }\n",
       "\n",
       "    .dataframe thead th {\n",
       "        text-align: right;\n",
       "    }\n",
       "</style>\n",
       "<table border=\"1\" class=\"dataframe\">\n",
       "  <thead>\n",
       "    <tr style=\"text-align: right;\">\n",
       "      <th></th>\n",
       "      <th>MAE</th>\n",
       "      <th>MSE</th>\n",
       "      <th>RMSE</th>\n",
       "      <th>R2 adjusted</th>\n",
       "      <th>MPE_%</th>\n",
       "      <th>MAPE_%</th>\n",
       "      <th>WAPE_%</th>\n",
       "    </tr>\n",
       "    <tr>\n",
       "      <th>model</th>\n",
       "      <th></th>\n",
       "      <th></th>\n",
       "      <th></th>\n",
       "      <th></th>\n",
       "      <th></th>\n",
       "      <th></th>\n",
       "      <th></th>\n",
       "    </tr>\n",
       "  </thead>\n",
       "  <tbody>\n",
       "    <tr>\n",
       "      <th>LightGBM_Tune_1</th>\n",
       "      <td>889874.528</td>\n",
       "      <td>6.006059e+12</td>\n",
       "      <td>2450726.198</td>\n",
       "      <td>0.793</td>\n",
       "      <td>-4.819</td>\n",
       "      <td>13.954</td>\n",
       "      <td>10.954</td>\n",
       "    </tr>\n",
       "    <tr>\n",
       "      <th>LGBM_1_HOLDOUT</th>\n",
       "      <td>876787.958</td>\n",
       "      <td>6.078179e+12</td>\n",
       "      <td>2465396.348</td>\n",
       "      <td>0.790</td>\n",
       "      <td>-4.906</td>\n",
       "      <td>13.762</td>\n",
       "      <td>10.793</td>\n",
       "    </tr>\n",
       "    <tr>\n",
       "      <th>LightGBM_Tune_1_calibrated</th>\n",
       "      <td>898526.811</td>\n",
       "      <td>5.580876e+12</td>\n",
       "      <td>2362387.740</td>\n",
       "      <td>0.808</td>\n",
       "      <td>-5.852</td>\n",
       "      <td>14.183</td>\n",
       "      <td>11.060</td>\n",
       "    </tr>\n",
       "  </tbody>\n",
       "</table>\n",
       "</div>"
      ],
      "text/plain": [
       "                                   MAE           MSE         RMSE  \\\n",
       "model                                                               \n",
       "LightGBM_Tune_1             889874.528  6.006059e+12  2450726.198   \n",
       "LGBM_1_HOLDOUT              876787.958  6.078179e+12  2465396.348   \n",
       "LightGBM_Tune_1_calibrated  898526.811  5.580876e+12  2362387.740   \n",
       "\n",
       "                            R2 adjusted  MPE_%  MAPE_%  WAPE_%  \n",
       "model                                                           \n",
       "LightGBM_Tune_1                   0.793 -4.819  13.954  10.954  \n",
       "LGBM_1_HOLDOUT                    0.790 -4.906  13.762  10.793  \n",
       "LightGBM_Tune_1_calibrated        0.808 -5.852  14.183  11.060  "
      ]
     },
     "execution_count": 27,
     "metadata": {},
     "output_type": "execute_result"
    }
   ],
   "source": [
    "metrics = pd.concat(\n",
    "    [metrics, get_metrics_regression(y_test=y_test_1['price'],\n",
    "                                     y_pred=calibrated_predictions_test1,\n",
    "                                     X_test=X_test,\n",
    "                                     name='LightGBM_Tune_1_calibrated')\n",
    "     ])\n",
    "\n",
    "round(metrics.set_index('model'), 3)"
   ]
  },
  {
   "cell_type": "markdown",
   "id": "3b63355d-481b-4318-86e9-b7f9b3db2974",
   "metadata": {
    "tags": []
   },
   "source": [
    "### Second model LightGBM Tune 2\n",
    "\n",
    "Let's do the same for the **LGBM Tune 2** model."
   ]
  },
  {
   "cell_type": "code",
   "execution_count": 28,
   "id": "602cfa52-c2f9-4b0a-bad7-52aba1e25063",
   "metadata": {
    "tags": []
   },
   "outputs": [
    {
     "name": "stdout",
     "output_type": "stream",
     "text": [
      "Training until validation scores don't improve for 100 rounds\n",
      "Did not meet early stopping. Best iteration is:\n",
      "[100]\tvalid_0's l1: 0.1434\n",
      "price_log\n",
      "Training until validation scores don't improve for 100 rounds\n",
      "Did not meet early stopping. Best iteration is:\n",
      "[100]\tvalid_0's l1: 0.143245\tvalid_0's huber: 0.024079\n",
      "price_log\n",
      "Training until validation scores don't improve for 100 rounds\n",
      "Did not meet early stopping. Best iteration is:\n",
      "[100]\tvalid_0's l1: 0.143034\tvalid_0's quantile: 0.0714437\n",
      "price_log\n",
      "Training until validation scores don't improve for 100 rounds\n",
      "Did not meet early stopping. Best iteration is:\n",
      "[100]\tvalid_0's l1: 1.20289e+06\n",
      "Training until validation scores don't improve for 100 rounds\n",
      "Did not meet early stopping. Best iteration is:\n",
      "[100]\tvalid_0's l1: 1.22858e+06\tvalid_0's huber: 1.69926e+12\n",
      "Training until validation scores don't improve for 100 rounds\n",
      "Did not meet early stopping. Best iteration is:\n",
      "[100]\tvalid_0's l1: 1.18479e+06\tvalid_0's quantile: 594640\n"
     ]
    }
   ],
   "source": [
    "targets = ['price_log', 'price']\n",
    "\n",
    "y = df[targets]\n",
    "\n",
    "loss_funs = [\n",
    "    {'objective': 'mae'},\n",
    "    {'objective': 'huber', 'alpha': 3350000},\n",
    "    {'objective': 'quantile', 'alpha': 0.51}\n",
    "]\n",
    "\n",
    "X_train, X_test, y_train, y_test_2 = train_test_split(X_lgbm_2,\n",
    "                                                      y,\n",
    "                                                      test_size=0.2,\n",
    "                                                      shuffle=True,\n",
    "                                                      random_state=RAND)\n",
    "\n",
    "X_train_, X_val, y_train__2, y_val_2 = train_test_split(X_train,\n",
    "                                                        y_train,\n",
    "                                                        test_size=0.16,\n",
    "                                                        shuffle=True,\n",
    "                                                        random_state=RAND)\n",
    "\n",
    "# Filling in the blanks\n",
    "X_train = fill_missing_values(X_train, fill_dict_lgbm_2)\n",
    "X_test = fill_missing_values(X_test, fill_dict_lgbm_2)\n",
    "X_train_ = fill_missing_values(X_train_, fill_dict_lgbm_2)\n",
    "X_val = fill_missing_values(X_val, fill_dict_lgbm_2)\n",
    "\n",
    "overfitting = pd.DataFrame()\n",
    "\n",
    "\n",
    "for target in targets:\n",
    "    y_train_ = y_train__2[target]\n",
    "    y_test = y_test_2[target]\n",
    "    y_val = y_val_2[target]\n",
    "\n",
    "    for loss_fun in loss_funs:\n",
    "\n",
    "        early_stopping_callback = early_stopping(stopping_rounds=100)\n",
    "\n",
    "        lgbm_base = LGBMRegressor(\n",
    "            random_state=RAND, **loss_fun, verbosity=-1)\n",
    "\n",
    "        eval_set = [(X_val, y_val)]\n",
    "\n",
    "        lgbm_base.fit(X_train_,\n",
    "                      y_train_,\n",
    "                      eval_metric=\"mae\",\n",
    "                      eval_set=eval_set,\n",
    "                      callbacks=[early_stopping_callback],\n",
    "                      )\n",
    "\n",
    "        if target == 'price_log':\n",
    "            y_train_pl = np.exp(y_train_) - 1\n",
    "            y_test_pl = np.exp(y_test) - 1\n",
    "            print(target)\n",
    "            overfitting = pd.concat(\n",
    "                [overfitting, check_overfitting(lgbm_base,\n",
    "                                                X_train_,\n",
    "                                                y_train_pl,\n",
    "                                                X_test,\n",
    "                                                y_test_pl,\n",
    "                                                metric_fun=mean_absolute_error,\n",
    "                                                target_name=target,\n",
    "                                                loss_fun=loss_fun.get('objective'))\n",
    "                 ])\n",
    "\n",
    "        if target != 'price_per_meter' and target != 'price_log':\n",
    "\n",
    "            overfitting = pd.concat(\n",
    "                [overfitting, check_overfitting(lgbm_base,\n",
    "                                                X_train_,\n",
    "                                                y_train_,\n",
    "                                                X_test,\n",
    "                                                y_test,\n",
    "                                                metric_fun=mean_absolute_error,\n",
    "                                                target_name=target,\n",
    "                                                loss_fun=loss_fun.get('objective'))\n",
    "                 ])"
   ]
  },
  {
   "cell_type": "code",
   "execution_count": 29,
   "id": "4b0aa25c-0e82-497f-823e-1260936a5202",
   "metadata": {
    "tags": []
   },
   "outputs": [
    {
     "data": {
      "text/html": [
       "<div>\n",
       "<style scoped>\n",
       "    .dataframe tbody tr th:only-of-type {\n",
       "        vertical-align: middle;\n",
       "    }\n",
       "\n",
       "    .dataframe tbody tr th {\n",
       "        vertical-align: top;\n",
       "    }\n",
       "\n",
       "    .dataframe thead th {\n",
       "        text-align: right;\n",
       "    }\n",
       "</style>\n",
       "<table border=\"1\" class=\"dataframe\">\n",
       "  <thead>\n",
       "    <tr style=\"text-align: right;\">\n",
       "      <th></th>\n",
       "      <th>loss_fun</th>\n",
       "      <th>train</th>\n",
       "      <th>test</th>\n",
       "      <th>delta</th>\n",
       "    </tr>\n",
       "    <tr>\n",
       "      <th>target_name</th>\n",
       "      <th></th>\n",
       "      <th></th>\n",
       "      <th></th>\n",
       "      <th></th>\n",
       "    </tr>\n",
       "  </thead>\n",
       "  <tbody>\n",
       "    <tr>\n",
       "      <th>price_log</th>\n",
       "      <td>mae</td>\n",
       "      <td>8121813.94</td>\n",
       "      <td>8124003.03</td>\n",
       "      <td>0.03</td>\n",
       "    </tr>\n",
       "    <tr>\n",
       "      <th>price_log</th>\n",
       "      <td>huber</td>\n",
       "      <td>8121813.94</td>\n",
       "      <td>8124003.03</td>\n",
       "      <td>0.03</td>\n",
       "    </tr>\n",
       "    <tr>\n",
       "      <th>price_log</th>\n",
       "      <td>quantile</td>\n",
       "      <td>8121813.94</td>\n",
       "      <td>8124003.03</td>\n",
       "      <td>0.03</td>\n",
       "    </tr>\n",
       "    <tr>\n",
       "      <th>price</th>\n",
       "      <td>mae</td>\n",
       "      <td>1088270.54</td>\n",
       "      <td>1170777.11</td>\n",
       "      <td>7.05</td>\n",
       "    </tr>\n",
       "    <tr>\n",
       "      <th>price</th>\n",
       "      <td>huber</td>\n",
       "      <td>1123597.89</td>\n",
       "      <td>1203817.07</td>\n",
       "      <td>6.66</td>\n",
       "    </tr>\n",
       "    <tr>\n",
       "      <th>price</th>\n",
       "      <td>quantile</td>\n",
       "      <td>1080776.03</td>\n",
       "      <td>1163648.27</td>\n",
       "      <td>7.12</td>\n",
       "    </tr>\n",
       "  </tbody>\n",
       "</table>\n",
       "</div>"
      ],
      "text/plain": [
       "             loss_fun       train        test  delta\n",
       "target_name                                         \n",
       "price_log         mae  8121813.94  8124003.03   0.03\n",
       "price_log       huber  8121813.94  8124003.03   0.03\n",
       "price_log    quantile  8121813.94  8124003.03   0.03\n",
       "price             mae  1088270.54  1170777.11   7.05\n",
       "price           huber  1123597.89  1203817.07   6.66\n",
       "price        quantile  1080776.03  1163648.27   7.12"
      ]
     },
     "execution_count": 29,
     "metadata": {},
     "output_type": "execute_result"
    }
   ],
   "source": [
    "round(overfitting.set_index('target_name'), 2)"
   ]
  },
  {
   "cell_type": "markdown",
   "id": "b42ff12f-f715-431b-9417-8caf130d1654",
   "metadata": {},
   "source": [
    "The minimum error on **train** and **test** was obtained using the target variable **price** and the loss function **quantile** as for the **LGBM Tune 1** model."
   ]
  },
  {
   "cell_type": "markdown",
   "id": "abe9ed6b-bea6-4635-80d0-0190831a957e",
   "metadata": {},
   "source": [
    "Split the dataset into test, train, and val."
   ]
  },
  {
   "cell_type": "code",
   "execution_count": 30,
   "id": "cc6f0330-4e93-4456-b2a0-c017e0c97fc7",
   "metadata": {
    "tags": []
   },
   "outputs": [],
   "source": [
    "# target function\n",
    "def objective_lgb(trial, X, y, N_FOLDS, random_state=RAND):\n",
    "    lgb_params = {\n",
    "        # \"n_estimators\": trial.suggest_int(\"n_estimators\", 800, 3000, step=50),\n",
    "        \"n_estimators\": trial.suggest_categorical(\"n_estimators\", [1200]),\n",
    "        \"learning_rate\": trial.suggest_categorical(\"learning_rate\", [0.04974513748577575]),\n",
    "        # \"learning_rate\": trial.suggest_float(\"learning_rate\",\n",
    "        #                                      0.001,\n",
    "        #                                      0.3, log=True),\n",
    "        \"num_leaves\": trial.suggest_int(\"num_leaves\", 30, 40, step=1),\n",
    "        \"max_depth\": trial.suggest_int(\"max_depth\", 9, 10),\n",
    "        # \"max_bin\": trial.suggest_int(\"max_bin\", 512, 2048),\n",
    "        \"min_child_samples\": trial.suggest_int(\"min_child_samples\", 16, 22, step=1),\n",
    "        \"reg_alpha\": trial.suggest_int(\"reg_alpha\", 10, 20),\n",
    "        # \"reg_lambda\": trial.suggest_int(\"reg_lambda\", 70, 100),\n",
    "        # \"min_split_gain\": trial.suggest_int(\"min_split_gain\", 0, 20),\n",
    "        \"subsample\": trial.suggest_float(\"subsample\", 0.2, 0.9),\n",
    "        # \"subsample_freq\": trial.suggest_categorical(\"subsample_freq\", [1]),\n",
    "        \"colsample_bytree\": trial.suggest_float(\"colsample_bytree\", 0.6, 0.9),\n",
    "        \"objective\": trial.suggest_categorical(\"objective\", ['quantile']),\n",
    "        \"alpha\": trial.suggest_categorical(\"alpha\", [0.51]),\n",
    "        \"random_state\": trial.suggest_categorical(\"random_state\", [random_state])\n",
    "    }\n",
    "\n",
    "    cv = KFold(n_splits=N_FOLDS, shuffle=True)\n",
    "    early_stopping_callback = early_stopping(stopping_rounds=100)\n",
    "\n",
    "    cv_predicts = np.empty(N_FOLDS)\n",
    "    for idx, (train_idx, test_idx) in enumerate(cv.split(X, y)):\n",
    "        X_train, X_test = X.iloc[train_idx], X.iloc[test_idx]\n",
    "        y_train, y_test = y.iloc[train_idx], y.iloc[test_idx]\n",
    "\n",
    "        pruning_callback = optuna.integration.LightGBMPruningCallback(\n",
    "            trial, \"l1\")\n",
    "        model = LGBMRegressor(**lgb_params, verbosity=-1)\n",
    "        model.fit(X_train,\n",
    "                  y_train,\n",
    "                  eval_set=[(X_test, y_test)],\n",
    "                  eval_metric=\"mae\",\n",
    "                  callbacks=[pruning_callback, early_stopping_callback],\n",
    "                  )\n",
    "\n",
    "        preds = model.predict(X_test)\n",
    "        cv_predicts[idx] = mean_absolute_error(y_test, preds)\n",
    "\n",
    "    return np.mean(cv_predicts)"
   ]
  },
  {
   "cell_type": "code",
   "execution_count": 31,
   "id": "50e5a3c6-090c-42e5-b1e2-0f240783002a",
   "metadata": {
    "tags": []
   },
   "outputs": [
    {
     "data": {
      "application/vnd.jupyter.widget-view+json": {
       "model_id": "9b1dfac03f1841d7a7499df9cabe25ba",
       "version_major": 2,
       "version_minor": 0
      },
      "text/plain": [
       "  0%|          | 0/7 [00:00<?, ?it/s]"
      ]
     },
     "metadata": {},
     "output_type": "display_data"
    },
    {
     "name": "stdout",
     "output_type": "stream",
     "text": [
      "Training until validation scores don't improve for 100 rounds\n",
      "Early stopping, best iteration is:\n",
      "[1052]\tvalid_0's l1: 1.13044e+06\tvalid_0's quantile: 567198\n",
      "Training until validation scores don't improve for 100 rounds\n",
      "Early stopping, best iteration is:\n",
      "[685]\tvalid_0's l1: 1.16142e+06\tvalid_0's quantile: 583217\n",
      "Training until validation scores don't improve for 100 rounds\n",
      "Early stopping, best iteration is:\n",
      "[832]\tvalid_0's l1: 1.19146e+06\tvalid_0's quantile: 598671\n",
      "Training until validation scores don't improve for 100 rounds\n",
      "Early stopping, best iteration is:\n",
      "[522]\tvalid_0's l1: 1.13256e+06\tvalid_0's quantile: 568485\n",
      "Training until validation scores don't improve for 100 rounds\n",
      "Did not meet early stopping. Best iteration is:\n",
      "[1197]\tvalid_0's l1: 1.12481e+06\tvalid_0's quantile: 564745\n",
      "Training until validation scores don't improve for 100 rounds\n",
      "Early stopping, best iteration is:\n",
      "[516]\tvalid_0's l1: 1.17482e+06\tvalid_0's quantile: 590082\n",
      "Training until validation scores don't improve for 100 rounds\n",
      "Early stopping, best iteration is:\n",
      "[513]\tvalid_0's l1: 1.11856e+06\tvalid_0's quantile: 560750\n",
      "Training until validation scores don't improve for 100 rounds\n",
      "Early stopping, best iteration is:\n",
      "[607]\tvalid_0's l1: 1.19244e+06\tvalid_0's quantile: 599907\n",
      "Training until validation scores don't improve for 100 rounds\n",
      "Early stopping, best iteration is:\n",
      "[631]\tvalid_0's l1: 1.24598e+06\tvalid_0's quantile: 625868\n",
      "Training until validation scores don't improve for 100 rounds\n",
      "Early stopping, best iteration is:\n",
      "[708]\tvalid_0's l1: 1.12703e+06\tvalid_0's quantile: 565750\n",
      "Training until validation scores don't improve for 100 rounds\n",
      "Early stopping, best iteration is:\n",
      "[419]\tvalid_0's l1: 1.16387e+06\tvalid_0's quantile: 584080\n",
      "Training until validation scores don't improve for 100 rounds\n",
      "Early stopping, best iteration is:\n",
      "[409]\tvalid_0's l1: 1.13159e+06\tvalid_0's quantile: 567484\n",
      "Training until validation scores don't improve for 100 rounds\n",
      "Early stopping, best iteration is:\n",
      "[552]\tvalid_0's l1: 1.24021e+06\tvalid_0's quantile: 623029\n",
      "Training until validation scores don't improve for 100 rounds\n",
      "Early stopping, best iteration is:\n",
      "[387]\tvalid_0's l1: 1.23202e+06\tvalid_0's quantile: 619608\n",
      "Training until validation scores don't improve for 100 rounds\n",
      "Early stopping, best iteration is:\n",
      "[451]\tvalid_0's l1: 1.11899e+06\tvalid_0's quantile: 561840\n",
      "Training until validation scores don't improve for 100 rounds\n",
      "Early stopping, best iteration is:\n",
      "[393]\tvalid_0's l1: 1.19531e+06\tvalid_0's quantile: 600741\n",
      "Training until validation scores don't improve for 100 rounds\n",
      "Early stopping, best iteration is:\n",
      "[575]\tvalid_0's l1: 1.14753e+06\tvalid_0's quantile: 575238\n",
      "Training until validation scores don't improve for 100 rounds\n",
      "Early stopping, best iteration is:\n",
      "[487]\tvalid_0's l1: 1.19448e+06\tvalid_0's quantile: 599948\n",
      "Training until validation scores don't improve for 100 rounds\n",
      "Early stopping, best iteration is:\n",
      "[674]\tvalid_0's l1: 1.18199e+06\tvalid_0's quantile: 593649\n",
      "Training until validation scores don't improve for 100 rounds\n",
      "Early stopping, best iteration is:\n",
      "[589]\tvalid_0's l1: 1.1255e+06\tvalid_0's quantile: 564982\n",
      "Training until validation scores don't improve for 100 rounds\n",
      "Early stopping, best iteration is:\n",
      "[354]\tvalid_0's l1: 1.20326e+06\tvalid_0's quantile: 604689\n",
      "Training until validation scores don't improve for 100 rounds\n",
      "Early stopping, best iteration is:\n",
      "[416]\tvalid_0's l1: 1.22014e+06\tvalid_0's quantile: 613183\n",
      "Training until validation scores don't improve for 100 rounds\n",
      "Early stopping, best iteration is:\n",
      "[439]\tvalid_0's l1: 1.23752e+06\tvalid_0's quantile: 622333\n",
      "Training until validation scores don't improve for 100 rounds\n",
      "Early stopping, best iteration is:\n",
      "[454]\tvalid_0's l1: 1.09491e+06\tvalid_0's quantile: 548770\n",
      "Training until validation scores don't improve for 100 rounds\n",
      "Early stopping, best iteration is:\n",
      "[421]\tvalid_0's l1: 1.22592e+06\tvalid_0's quantile: 615782\n",
      "Training until validation scores don't improve for 100 rounds\n"
     ]
    }
   ],
   "source": [
    "y_train = y_train['price']\n",
    "\n",
    "study = optuna.create_study(direction=\"minimize\", study_name=\"LightGBM_Tune_2\",\n",
    "                            sampler=optuna.samplers.TPESampler(seed=RAND))\n",
    "\n",
    "\n",
    "def func(trial): return objective_lgb(\n",
    "    trial, X_train, y_train, N_FOLDS=N_FOLDS, random_state=RAND)\n",
    "\n",
    "\n",
    "optuna.logging.set_verbosity(optuna.logging.CRITICAL)\n",
    "study.optimize(func, n_trials=7, show_progress_bar=True)"
   ]
  },
  {
   "cell_type": "code",
   "execution_count": 32,
   "id": "646de593-77a4-45ab-83b0-df2d29cda1ac",
   "metadata": {
    "tags": []
   },
   "outputs": [
    {
     "name": "stdout",
     "output_type": "stream",
     "text": [
      "\tBest value (mae): 1148139.630910\n",
      "\tBest params:\n",
      "\t\tn_estimators: 1200\n",
      "\t\tlearning_rate: 0.04974513748577575\n",
      "\t\tnum_leaves: 39\n",
      "\t\tmax_depth: 10\n",
      "\t\tmin_child_samples: 17\n",
      "\t\treg_alpha: 12\n",
      "\t\tsubsample: 0.4877700895475792\n",
      "\t\tcolsample_bytree: 0.6352126641404147\n",
      "\t\tobjective: quantile\n",
      "\t\talpha: 0.51\n",
      "\t\trandom_state: 25\n"
     ]
    }
   ],
   "source": [
    "print(f\"\\tBest value (mae): {study.best_value:.6f}\")\n",
    "print(f\"\\tBest params:\")\n",
    "\n",
    "for key, value in study.best_params.items():\n",
    "    print(f\"\\t\\t{key}: {value}\")"
   ]
  },
  {
   "cell_type": "code",
   "execution_count": 33,
   "id": "6dcacb5f-c442-481b-9578-c7e1b31a78aa",
   "metadata": {
    "tags": []
   },
   "outputs": [
    {
     "data": {
      "image/png": "[encoded data removed]",
      "text/plain": [
       "<Figure size 640x480 with 1 Axes>"
      ]
     },
     "metadata": {},
     "output_type": "display_data"
    }
   ],
   "source": [
    "LGBM_2_bp = dict(study.best_params.items())\n",
    "\n",
    "plot_param_importances(study);"
   ]
  },
  {
   "cell_type": "code",
   "execution_count": 34,
   "id": "d40a5172-7308-4963-807b-3faf11533d09",
   "metadata": {
    "tags": []
   },
   "outputs": [
    {
     "name": "stdout",
     "output_type": "stream",
     "text": [
      "Training until validation scores don't improve for 100 rounds\n",
      "Did not meet early stopping. Best iteration is:\n",
      "[1190]\tvalid_0's l1: 1.15917e+06\tvalid_0's quantile: 581497\n"
     ]
    }
   ],
   "source": [
    "LightGBM_Tune_2 = LGBMRegressor(**LGBM_2_bp, verbosity=-1)\n",
    "\n",
    "early_stopping_callback = early_stopping(stopping_rounds=100)\n",
    "\n",
    "eval_set = [(X_val, y_val)]\n",
    "\n",
    "LightGBM_Tune_2.fit(X_train_[features_lgbm_2],\n",
    "                    y_train_,\n",
    "                    eval_metric=\"mae\",\n",
    "                    eval_set=eval_set,\n",
    "                    callbacks=[early_stopping_callback],\n",
    "                    )\n",
    "\n",
    "eval_set = [(X_val, y_val)]\n",
    "\n",
    "y_pred = LightGBM_Tune_2.predict(X_test)"
   ]
  },
  {
   "cell_type": "code",
   "execution_count": 35,
   "id": "13e0ab12-8d00-426c-9dcb-3f8d64fb0039",
   "metadata": {
    "tags": []
   },
   "outputs": [
    {
     "data": {
      "text/html": [
       "<div>\n",
       "<style scoped>\n",
       "    .dataframe tbody tr th:only-of-type {\n",
       "        vertical-align: middle;\n",
       "    }\n",
       "\n",
       "    .dataframe tbody tr th {\n",
       "        vertical-align: top;\n",
       "    }\n",
       "\n",
       "    .dataframe thead th {\n",
       "        text-align: right;\n",
       "    }\n",
       "</style>\n",
       "<table border=\"1\" class=\"dataframe\">\n",
       "  <thead>\n",
       "    <tr style=\"text-align: right;\">\n",
       "      <th></th>\n",
       "      <th>target_name</th>\n",
       "      <th>loss_fun</th>\n",
       "      <th>train</th>\n",
       "      <th>test</th>\n",
       "      <th>delta</th>\n",
       "    </tr>\n",
       "  </thead>\n",
       "  <tbody>\n",
       "    <tr>\n",
       "      <th>0</th>\n",
       "      <td>price</td>\n",
       "      <td>quantile</td>\n",
       "      <td>1025104.82</td>\n",
       "      <td>1133782.088</td>\n",
       "      <td>9.585</td>\n",
       "    </tr>\n",
       "  </tbody>\n",
       "</table>\n",
       "</div>"
      ],
      "text/plain": [
       "  target_name  loss_fun       train         test  delta\n",
       "0       price  quantile  1025104.82  1133782.088  9.585"
      ]
     },
     "execution_count": 35,
     "metadata": {},
     "output_type": "execute_result"
    }
   ],
   "source": [
    "round(check_overfitting(LightGBM_Tune_2,\n",
    "                        X_train_,\n",
    "                        y_train__2['price'],\n",
    "                        X_test,\n",
    "                        y_test_2['price'],\n",
    "                        metric_fun=mean_absolute_error,\n",
    "                        target_name='price',\n",
    "                        loss_fun='quantile'), 3)"
   ]
  },
  {
   "cell_type": "code",
   "execution_count": 36,
   "id": "6bcdd41a-f8af-4113-ad80-58e5098d053d",
   "metadata": {
    "tags": []
   },
   "outputs": [
    {
     "data": {
      "text/html": [
       "<div>\n",
       "<style scoped>\n",
       "    .dataframe tbody tr th:only-of-type {\n",
       "        vertical-align: middle;\n",
       "    }\n",
       "\n",
       "    .dataframe tbody tr th {\n",
       "        vertical-align: top;\n",
       "    }\n",
       "\n",
       "    .dataframe thead th {\n",
       "        text-align: right;\n",
       "    }\n",
       "</style>\n",
       "<table border=\"1\" class=\"dataframe\">\n",
       "  <thead>\n",
       "    <tr style=\"text-align: right;\">\n",
       "      <th></th>\n",
       "      <th>MAE</th>\n",
       "      <th>MSE</th>\n",
       "      <th>RMSE</th>\n",
       "      <th>R2 adjusted</th>\n",
       "      <th>MPE_%</th>\n",
       "      <th>MAPE_%</th>\n",
       "      <th>WAPE_%</th>\n",
       "    </tr>\n",
       "    <tr>\n",
       "      <th>model</th>\n",
       "      <th></th>\n",
       "      <th></th>\n",
       "      <th></th>\n",
       "      <th></th>\n",
       "      <th></th>\n",
       "      <th></th>\n",
       "      <th></th>\n",
       "    </tr>\n",
       "  </thead>\n",
       "  <tbody>\n",
       "    <tr>\n",
       "      <th>LightGBM_Tune_1</th>\n",
       "      <td>889874.528</td>\n",
       "      <td>6.006059e+12</td>\n",
       "      <td>2450726.198</td>\n",
       "      <td>0.793</td>\n",
       "      <td>-4.819</td>\n",
       "      <td>13.954</td>\n",
       "      <td>10.954</td>\n",
       "    </tr>\n",
       "    <tr>\n",
       "      <th>LGBM_1_HOLDOUT</th>\n",
       "      <td>876787.958</td>\n",
       "      <td>6.078179e+12</td>\n",
       "      <td>2465396.348</td>\n",
       "      <td>0.790</td>\n",
       "      <td>-4.906</td>\n",
       "      <td>13.762</td>\n",
       "      <td>10.793</td>\n",
       "    </tr>\n",
       "    <tr>\n",
       "      <th>LightGBM_Tune_1_calibrated</th>\n",
       "      <td>898526.811</td>\n",
       "      <td>5.580876e+12</td>\n",
       "      <td>2362387.740</td>\n",
       "      <td>0.808</td>\n",
       "      <td>-5.852</td>\n",
       "      <td>14.183</td>\n",
       "      <td>11.060</td>\n",
       "    </tr>\n",
       "    <tr>\n",
       "      <th>LightGBM_Tune_2</th>\n",
       "      <td>1133782.088</td>\n",
       "      <td>8.954900e+12</td>\n",
       "      <td>2992473.964</td>\n",
       "      <td>0.691</td>\n",
       "      <td>-4.871</td>\n",
       "      <td>15.781</td>\n",
       "      <td>13.956</td>\n",
       "    </tr>\n",
       "  </tbody>\n",
       "</table>\n",
       "</div>"
      ],
      "text/plain": [
       "                                    MAE           MSE         RMSE  \\\n",
       "model                                                                \n",
       "LightGBM_Tune_1              889874.528  6.006059e+12  2450726.198   \n",
       "LGBM_1_HOLDOUT               876787.958  6.078179e+12  2465396.348   \n",
       "LightGBM_Tune_1_calibrated   898526.811  5.580876e+12  2362387.740   \n",
       "LightGBM_Tune_2             1133782.088  8.954900e+12  2992473.964   \n",
       "\n",
       "                            R2 adjusted  MPE_%  MAPE_%  WAPE_%  \n",
       "model                                                           \n",
       "LightGBM_Tune_1                   0.793 -4.819  13.954  10.954  \n",
       "LGBM_1_HOLDOUT                    0.790 -4.906  13.762  10.793  \n",
       "LightGBM_Tune_1_calibrated        0.808 -5.852  14.183  11.060  \n",
       "LightGBM_Tune_2                   0.691 -4.871  15.781  13.956  "
      ]
     },
     "execution_count": 36,
     "metadata": {},
     "output_type": "execute_result"
    }
   ],
   "source": [
    "metrics = pd.concat(\n",
    "    [metrics, get_metrics_regression(y_test=y_test_2['price'],\n",
    "                                     y_pred=y_pred,\n",
    "                                     X_test=X_test,\n",
    "                                     name='LightGBM_Tune_2')\n",
    "     ])\n",
    "\n",
    "round(metrics.set_index('model'), 3)"
   ]
  },
  {
   "cell_type": "code",
   "execution_count": 37,
   "id": "52f7d86e-8126-4808-8210-fa12dd60e396",
   "metadata": {
    "tags": []
   },
   "outputs": [
    {
     "name": "stdout",
     "output_type": "stream",
     "text": [
      "Fold 1 Validation MAE: 1168374.9790\n",
      "Fold 2 Validation MAE: 1134951.7036\n",
      "Fold 3 Validation MAE: 1180546.6849\n",
      "Fold 4 Validation MAE: 1147107.7107\n",
      "Fold 5 Validation MAE: 1145535.9752\n"
     ]
    }
   ],
   "source": [
    "score_oof2, predictions_train2, predictions_test2, \\\n",
    "    LGBM_2 = cross_validation_regressor(X_train=X_train,\n",
    "                                        y_train=y_train,\n",
    "                                        X_test=X_test,\n",
    "                                        y_test=y_test_2['price'],\n",
    "                                        clf=lgb.LGBMRegressor,\n",
    "                                        params=LGBM_2_bp,\n",
    "                                        cat_features=None,\n",
    "                                        eval_metric='mae',\n",
    "                                        early_stop=False,\n",
    "                                        early_stopping_rounds=100,\n",
    "                                        num_folds=N_FOLDS,\n",
    "                                        random_state=RAND)"
   ]
  },
  {
   "cell_type": "code",
   "execution_count": 38,
   "id": "dd90c127-42d9-41a1-9510-a41460436701",
   "metadata": {
    "tags": []
   },
   "outputs": [
    {
     "name": "stdout",
     "output_type": "stream",
     "text": [
      "MAE mean OOF: 1155303.41, std: 16642.43\n",
      "MAE HOLDOUT: 1140721.59\n"
     ]
    }
   ],
   "source": [
    "print('MAE mean OOF: %.2f, std: %.2f' %\n",
    "      (np.mean(score_oof2), np.std(score_oof2)))\n",
    "print('MAE HOLDOUT: %.2f' % mean_absolute_error(\n",
    "    y_test_2['price'], predictions_test2))"
   ]
  },
  {
   "cell_type": "code",
   "execution_count": 39,
   "id": "9bb36ec6-610c-4e89-92fa-37c36211c20a",
   "metadata": {
    "tags": []
   },
   "outputs": [
    {
     "data": {
      "text/html": [
       "<div>\n",
       "<style scoped>\n",
       "    .dataframe tbody tr th:only-of-type {\n",
       "        vertical-align: middle;\n",
       "    }\n",
       "\n",
       "    .dataframe tbody tr th {\n",
       "        vertical-align: top;\n",
       "    }\n",
       "\n",
       "    .dataframe thead th {\n",
       "        text-align: right;\n",
       "    }\n",
       "</style>\n",
       "<table border=\"1\" class=\"dataframe\">\n",
       "  <thead>\n",
       "    <tr style=\"text-align: right;\">\n",
       "      <th></th>\n",
       "      <th>MAE</th>\n",
       "      <th>MSE</th>\n",
       "      <th>RMSE</th>\n",
       "      <th>R2 adjusted</th>\n",
       "      <th>MPE_%</th>\n",
       "      <th>MAPE_%</th>\n",
       "      <th>WAPE_%</th>\n",
       "    </tr>\n",
       "    <tr>\n",
       "      <th>model</th>\n",
       "      <th></th>\n",
       "      <th></th>\n",
       "      <th></th>\n",
       "      <th></th>\n",
       "      <th></th>\n",
       "      <th></th>\n",
       "      <th></th>\n",
       "    </tr>\n",
       "  </thead>\n",
       "  <tbody>\n",
       "    <tr>\n",
       "      <th>LightGBM_Tune_1</th>\n",
       "      <td>889874.528</td>\n",
       "      <td>6.006059e+12</td>\n",
       "      <td>2450726.198</td>\n",
       "      <td>0.793</td>\n",
       "      <td>-4.819</td>\n",
       "      <td>13.954</td>\n",
       "      <td>10.954</td>\n",
       "    </tr>\n",
       "    <tr>\n",
       "      <th>LGBM_1_HOLDOUT</th>\n",
       "      <td>876787.958</td>\n",
       "      <td>6.078179e+12</td>\n",
       "      <td>2465396.348</td>\n",
       "      <td>0.790</td>\n",
       "      <td>-4.906</td>\n",
       "      <td>13.762</td>\n",
       "      <td>10.793</td>\n",
       "    </tr>\n",
       "    <tr>\n",
       "      <th>LightGBM_Tune_1_calibrated</th>\n",
       "      <td>898526.811</td>\n",
       "      <td>5.580876e+12</td>\n",
       "      <td>2362387.740</td>\n",
       "      <td>0.808</td>\n",
       "      <td>-5.852</td>\n",
       "      <td>14.183</td>\n",
       "      <td>11.060</td>\n",
       "    </tr>\n",
       "    <tr>\n",
       "      <th>LightGBM_Tune_2</th>\n",
       "      <td>1133782.088</td>\n",
       "      <td>8.954900e+12</td>\n",
       "      <td>2992473.964</td>\n",
       "      <td>0.691</td>\n",
       "      <td>-4.871</td>\n",
       "      <td>15.781</td>\n",
       "      <td>13.956</td>\n",
       "    </tr>\n",
       "    <tr>\n",
       "      <th>LGBM_2_HOLDOUT</th>\n",
       "      <td>1140721.591</td>\n",
       "      <td>9.437304e+12</td>\n",
       "      <td>3072019.516</td>\n",
       "      <td>0.674</td>\n",
       "      <td>-4.853</td>\n",
       "      <td>15.733</td>\n",
       "      <td>14.041</td>\n",
       "    </tr>\n",
       "  </tbody>\n",
       "</table>\n",
       "</div>"
      ],
      "text/plain": [
       "                                    MAE           MSE         RMSE  \\\n",
       "model                                                                \n",
       "LightGBM_Tune_1              889874.528  6.006059e+12  2450726.198   \n",
       "LGBM_1_HOLDOUT               876787.958  6.078179e+12  2465396.348   \n",
       "LightGBM_Tune_1_calibrated   898526.811  5.580876e+12  2362387.740   \n",
       "LightGBM_Tune_2             1133782.088  8.954900e+12  2992473.964   \n",
       "LGBM_2_HOLDOUT              1140721.591  9.437304e+12  3072019.516   \n",
       "\n",
       "                            R2 adjusted  MPE_%  MAPE_%  WAPE_%  \n",
       "model                                                           \n",
       "LightGBM_Tune_1                   0.793 -4.819  13.954  10.954  \n",
       "LGBM_1_HOLDOUT                    0.790 -4.906  13.762  10.793  \n",
       "LightGBM_Tune_1_calibrated        0.808 -5.852  14.183  11.060  \n",
       "LightGBM_Tune_2                   0.691 -4.871  15.781  13.956  \n",
       "LGBM_2_HOLDOUT                    0.674 -4.853  15.733  14.041  "
      ]
     },
     "execution_count": 39,
     "metadata": {},
     "output_type": "execute_result"
    }
   ],
   "source": [
    "metrics = pd.concat(\n",
    "    [metrics, get_metrics_regression(y_test=y_test_2['price'],\n",
    "                                     y_pred=predictions_test2,\n",
    "                                     X_test=X_test,\n",
    "                                     name='LGBM_2_HOLDOUT')\n",
    "     ])\n",
    "\n",
    "round(metrics.set_index('model'), 3)"
   ]
  },
  {
   "cell_type": "code",
   "execution_count": 40,
   "id": "609d7866-73f7-4dba-88ae-fe7572430c91",
   "metadata": {
    "tags": []
   },
   "outputs": [
    {
     "data": {
      "image/png": "[encoded data removed]",
      "text/plain": [
       "<Figure size 1200x600 with 2 Axes>"
      ]
     },
     "metadata": {},
     "output_type": "display_data"
    }
   ],
   "source": [
    "plot_residuals_vs_predictions(y_test_2['price'], predictions_test2)"
   ]
  },
  {
   "cell_type": "code",
   "execution_count": 41,
   "id": "c8d1f221-27ad-4344-ba9c-50a3992f0a5c",
   "metadata": {
    "tags": []
   },
   "outputs": [
    {
     "name": "stdout",
     "output_type": "stream",
     "text": [
      "MAE HOLDOUT (calibrated): 1125607.04\n"
     ]
    }
   ],
   "source": [
    "# Performing isotonic calibration\n",
    "calibrated_predictions_test2 = calibrate_predictions(\n",
    "    predictions_train2, y_train, predictions_test2)\n",
    "\n",
    "# Evaluation of the MAE metric on calibrated predictions\n",
    "print('MAE HOLDOUT (calibrated): %.2f' %\n",
    "      mean_absolute_error(y_test_2['price'], calibrated_predictions_test2))"
   ]
  },
  {
   "cell_type": "code",
   "execution_count": 42,
   "id": "2a4ebf81-d152-4931-9442-d911e7c318f6",
   "metadata": {
    "tags": []
   },
   "outputs": [
    {
     "data": {
      "image/png": "[encoded data removed]",
      "text/plain": [
       "<Figure size 1200x600 with 2 Axes>"
      ]
     },
     "metadata": {},
     "output_type": "display_data"
    }
   ],
   "source": [
    "plot_residuals_vs_predictions(y_test_2['price'], calibrated_predictions_test2)"
   ]
  },
  {
   "cell_type": "code",
   "execution_count": 43,
   "id": "09aecc90-73f2-442f-bca0-0610b2fef401",
   "metadata": {
    "tags": []
   },
   "outputs": [
    {
     "data": {
      "text/html": [
       "<div>\n",
       "<style scoped>\n",
       "    .dataframe tbody tr th:only-of-type {\n",
       "        vertical-align: middle;\n",
       "    }\n",
       "\n",
       "    .dataframe tbody tr th {\n",
       "        vertical-align: top;\n",
       "    }\n",
       "\n",
       "    .dataframe thead th {\n",
       "        text-align: right;\n",
       "    }\n",
       "</style>\n",
       "<table border=\"1\" class=\"dataframe\">\n",
       "  <thead>\n",
       "    <tr style=\"text-align: right;\">\n",
       "      <th></th>\n",
       "      <th>MAE</th>\n",
       "      <th>MSE</th>\n",
       "      <th>RMSE</th>\n",
       "      <th>R2 adjusted</th>\n",
       "      <th>MPE_%</th>\n",
       "      <th>MAPE_%</th>\n",
       "      <th>WAPE_%</th>\n",
       "    </tr>\n",
       "    <tr>\n",
       "      <th>model</th>\n",
       "      <th></th>\n",
       "      <th></th>\n",
       "      <th></th>\n",
       "      <th></th>\n",
       "      <th></th>\n",
       "      <th></th>\n",
       "      <th></th>\n",
       "    </tr>\n",
       "  </thead>\n",
       "  <tbody>\n",
       "    <tr>\n",
       "      <th>LightGBM_Tune_1</th>\n",
       "      <td>889874.528</td>\n",
       "      <td>6.006059e+12</td>\n",
       "      <td>2450726.198</td>\n",
       "      <td>0.793</td>\n",
       "      <td>-4.819</td>\n",
       "      <td>13.954</td>\n",
       "      <td>10.954</td>\n",
       "    </tr>\n",
       "    <tr>\n",
       "      <th>LGBM_1_HOLDOUT</th>\n",
       "      <td>876787.958</td>\n",
       "      <td>6.078179e+12</td>\n",
       "      <td>2465396.348</td>\n",
       "      <td>0.790</td>\n",
       "      <td>-4.906</td>\n",
       "      <td>13.762</td>\n",
       "      <td>10.793</td>\n",
       "    </tr>\n",
       "    <tr>\n",
       "      <th>LightGBM_Tune_1_calibrated</th>\n",
       "      <td>898526.811</td>\n",
       "      <td>5.580876e+12</td>\n",
       "      <td>2362387.740</td>\n",
       "      <td>0.808</td>\n",
       "      <td>-5.852</td>\n",
       "      <td>14.183</td>\n",
       "      <td>11.060</td>\n",
       "    </tr>\n",
       "    <tr>\n",
       "      <th>LightGBM_Tune_2</th>\n",
       "      <td>1133782.088</td>\n",
       "      <td>8.954900e+12</td>\n",
       "      <td>2992473.964</td>\n",
       "      <td>0.691</td>\n",
       "      <td>-4.871</td>\n",
       "      <td>15.781</td>\n",
       "      <td>13.956</td>\n",
       "    </tr>\n",
       "    <tr>\n",
       "      <th>LGBM_2_HOLDOUT</th>\n",
       "      <td>1140721.591</td>\n",
       "      <td>9.437304e+12</td>\n",
       "      <td>3072019.516</td>\n",
       "      <td>0.674</td>\n",
       "      <td>-4.853</td>\n",
       "      <td>15.733</td>\n",
       "      <td>14.041</td>\n",
       "    </tr>\n",
       "    <tr>\n",
       "      <th>LightGBM_Tune_2_calibrated</th>\n",
       "      <td>1125607.043</td>\n",
       "      <td>6.856497e+12</td>\n",
       "      <td>2618491.307</td>\n",
       "      <td>0.763</td>\n",
       "      <td>-6.680</td>\n",
       "      <td>16.285</td>\n",
       "      <td>13.855</td>\n",
       "    </tr>\n",
       "  </tbody>\n",
       "</table>\n",
       "</div>"
      ],
      "text/plain": [
       "                                    MAE           MSE         RMSE  \\\n",
       "model                                                                \n",
       "LightGBM_Tune_1              889874.528  6.006059e+12  2450726.198   \n",
       "LGBM_1_HOLDOUT               876787.958  6.078179e+12  2465396.348   \n",
       "LightGBM_Tune_1_calibrated   898526.811  5.580876e+12  2362387.740   \n",
       "LightGBM_Tune_2             1133782.088  8.954900e+12  2992473.964   \n",
       "LGBM_2_HOLDOUT              1140721.591  9.437304e+12  3072019.516   \n",
       "LightGBM_Tune_2_calibrated  1125607.043  6.856497e+12  2618491.307   \n",
       "\n",
       "                            R2 adjusted  MPE_%  MAPE_%  WAPE_%  \n",
       "model                                                           \n",
       "LightGBM_Tune_1                   0.793 -4.819  13.954  10.954  \n",
       "LGBM_1_HOLDOUT                    0.790 -4.906  13.762  10.793  \n",
       "LightGBM_Tune_1_calibrated        0.808 -5.852  14.183  11.060  \n",
       "LightGBM_Tune_2                   0.691 -4.871  15.781  13.956  \n",
       "LGBM_2_HOLDOUT                    0.674 -4.853  15.733  14.041  \n",
       "LightGBM_Tune_2_calibrated        0.763 -6.680  16.285  13.855  "
      ]
     },
     "execution_count": 43,
     "metadata": {},
     "output_type": "execute_result"
    }
   ],
   "source": [
    "metrics = pd.concat(\n",
    "    [metrics, get_metrics_regression(y_test=y_test_2['price'],\n",
    "                                     y_pred=calibrated_predictions_test2,\n",
    "                                     X_test=X_test,\n",
    "                                     name='LightGBM_Tune_2_calibrated')\n",
    "     ])\n",
    "\n",
    "round(metrics.set_index('model'), 3)"
   ]
  },
  {
   "cell_type": "markdown",
   "id": "68eb9f0d-a2d2-4a14-a05d-d2e94e74002b",
   "metadata": {},
   "source": [
    "### Third CatBoost model\n",
    "\n",
    "We will also train baseline models with loss functions that are less sensitive to non-normal distributions compared to MSE. Subsequently, we will optimize the best hyperparameters using randomized_search."
   ]
  },
  {
   "cell_type": "code",
   "execution_count": 44,
   "id": "a04388ca-fde2-44a3-8db4-4506449f6181",
   "metadata": {
    "tags": []
   },
   "outputs": [],
   "source": [
    "cat_cols = list(cat_cols)"
   ]
  },
  {
   "cell_type": "code",
   "execution_count": 45,
   "id": "a27581b1-68e2-4c58-a128-62b7bd9ad2d0",
   "metadata": {
    "tags": []
   },
   "outputs": [],
   "source": [
    "X = df.drop(['price', 'price_log', 'price_per_meter'], axis=1)\n",
    "y = df['price']\n",
    "\n",
    "X_train, X_test, y_train, y_test = train_test_split(X,\n",
    "                                                    y,\n",
    "                                                    test_size=0.2,\n",
    "                                                    shuffle=True,\n",
    "                                                    random_state=RAND)\n",
    "\n",
    "X_train_, X_val, y_train_, y_val = train_test_split(X_train,\n",
    "                                                    y_train,\n",
    "                                                    test_size=0.16,\n",
    "                                                    shuffle=True,\n",
    "                                                    random_state=RAND)\n",
    "\n",
    "# Filling in the blanks\n",
    "X_train = fill_missing_values(X_train, fill_dict)\n",
    "X_test = fill_missing_values(X_test, fill_dict)\n",
    "X_train_ = fill_missing_values(X_train_, fill_dict)\n",
    "X_val = fill_missing_values(X_val, fill_dict)"
   ]
  },
  {
   "cell_type": "code",
   "execution_count": 46,
   "id": "f9964e18-a227-48b6-8520-3ac20d2dddbc",
   "metadata": {
    "tags": []
   },
   "outputs": [
    {
     "data": {
      "text/html": [
       "<div>\n",
       "<style scoped>\n",
       "    .dataframe tbody tr th:only-of-type {\n",
       "        vertical-align: middle;\n",
       "    }\n",
       "\n",
       "    .dataframe tbody tr th {\n",
       "        vertical-align: top;\n",
       "    }\n",
       "\n",
       "    .dataframe thead th {\n",
       "        text-align: right;\n",
       "    }\n",
       "</style>\n",
       "<table border=\"1\" class=\"dataframe\">\n",
       "  <thead>\n",
       "    <tr style=\"text-align: right;\">\n",
       "      <th></th>\n",
       "      <th>loss_fun</th>\n",
       "      <th>train</th>\n",
       "      <th>test</th>\n",
       "      <th>delta</th>\n",
       "    </tr>\n",
       "    <tr>\n",
       "      <th>target_name</th>\n",
       "      <th></th>\n",
       "      <th></th>\n",
       "      <th></th>\n",
       "      <th></th>\n",
       "    </tr>\n",
       "  </thead>\n",
       "  <tbody>\n",
       "    <tr>\n",
       "      <th>price</th>\n",
       "      <td>MAE</td>\n",
       "      <td>678181.91</td>\n",
       "      <td>739216.45</td>\n",
       "      <td>8.26</td>\n",
       "    </tr>\n",
       "    <tr>\n",
       "      <th>price</th>\n",
       "      <td>RMSE</td>\n",
       "      <td>603471.67</td>\n",
       "      <td>732656.43</td>\n",
       "      <td>17.63</td>\n",
       "    </tr>\n",
       "    <tr>\n",
       "      <th>price</th>\n",
       "      <td>LogCosh</td>\n",
       "      <td>686730.93</td>\n",
       "      <td>742383.70</td>\n",
       "      <td>7.50</td>\n",
       "    </tr>\n",
       "  </tbody>\n",
       "</table>\n",
       "</div>"
      ],
      "text/plain": [
       "            loss_fun      train       test  delta\n",
       "target_name                                      \n",
       "price            MAE  678181.91  739216.45   8.26\n",
       "price           RMSE  603471.67  732656.43  17.63\n",
       "price        LogCosh  686730.93  742383.70   7.50"
      ]
     },
     "execution_count": 46,
     "metadata": {},
     "output_type": "execute_result"
    }
   ],
   "source": [
    "loss_funs = ['MAE', 'RMSE', 'LogCosh']\n",
    "\n",
    "overfitting_cb = pd.DataFrame()\n",
    "\n",
    "cat_cols = list(cat_cols)\n",
    "\n",
    "for loss_fun in loss_funs:\n",
    "    cb_base = CatBoostRegressor(allow_writing_files=False,\n",
    "                                loss_function=loss_fun,\n",
    "                                random_state=RAND,\n",
    "                                eval_metric=loss_fun,\n",
    "                                cat_features=cat_cols)\n",
    "    eval_set = [(X_val, y_val)]\n",
    "\n",
    "    cb_base.fit(X_train_,\n",
    "                y_train_,\n",
    "                eval_set=eval_set,\n",
    "                verbose=False,\n",
    "                early_stopping_rounds=100)\n",
    "\n",
    "    overfitting_cb = pd.concat(\n",
    "        [overfitting_cb, check_overfitting(cb_base,\n",
    "                                           X_train_,\n",
    "                                           y_train_,\n",
    "                                           X_test,\n",
    "                                           y_test,\n",
    "                                           metric_fun=mean_absolute_error,\n",
    "                                           target_name=target,\n",
    "                                           loss_fun=loss_fun)\n",
    "         ])\n",
    "\n",
    "round(overfitting_cb.set_index('target_name'), 2)"
   ]
  },
  {
   "cell_type": "code",
   "execution_count": 47,
   "id": "d464769f-62da-46f0-bbce-7cee20eb6141",
   "metadata": {
    "tags": []
   },
   "outputs": [],
   "source": [
    "grid = {\n",
    "    'iterations': [1300],\n",
    "    'learning_rate': [0.043444122987293665],\n",
    "    'random_seed': [RAND],\n",
    "    'random_strength': [110, 120, 130],\n",
    "    # 'l2_leaf_reg': [35],\n",
    "    'depth': [6],\n",
    "    'max_leaves': [62, 64, 66],\n",
    "    \"bootstrap_type\": [\"Bayesian\", \"Bernoulli\", \"MVS\"],\n",
    "    'rsm': [0.5, 0.7, 0.8, 1],\n",
    "    'bagging_temperature': [0.2, 0.3, 0.4],\n",
    "    'subsample': [0.7, 0.8, 0.9],\n",
    "}"
   ]
  },
  {
   "cell_type": "code",
   "execution_count": 48,
   "id": "c521af89-bc67-467a-a2ff-5806e65a5e6e",
   "metadata": {
    "tags": []
   },
   "outputs": [
    {
     "name": "stdout",
     "output_type": "stream",
     "text": [
      "\n",
      "bestTest = 718502.4727\n",
      "bestIteration = 1295\n",
      "\n",
      "\n",
      "bestTest = 714730.7077\n",
      "bestIteration = 1298\n",
      "\n",
      "\n",
      "bestTest = 716218.7784\n",
      "bestIteration = 1299\n",
      "\n",
      "Training on fold [0/5]\n",
      "\n",
      "bestTest = 758789.0197\n",
      "bestIteration = 1299\n",
      "\n",
      "Training on fold [1/5]\n",
      "\n",
      "bestTest = 755344.8916\n",
      "bestIteration = 1299\n",
      "\n",
      "Training on fold [2/5]\n",
      "\n",
      "bestTest = 817500.6072\n",
      "bestIteration = 1299\n",
      "\n",
      "Training on fold [3/5]\n",
      "\n",
      "bestTest = 712658.9994\n",
      "bestIteration = 1299\n",
      "\n",
      "Training on fold [4/5]\n",
      "\n",
      "bestTest = 705319.5067\n",
      "bestIteration = 1299\n",
      "\n"
     ]
    }
   ],
   "source": [
    "# Creating Pool objects for CatBoost with specified categorical features\n",
    "train_pool = Pool(X_train_, y_train_, cat_features=cat_cols)\n",
    "eval_pool = Pool(X_val, y_val, cat_features=cat_cols)\n",
    "\n",
    "# Defining the CatBoostRegressor model\n",
    "cat_rand = CatBoostRegressor(\n",
    "    loss_function='MAE',  # Loss function\n",
    "    eval_metric='MAE',  # Metric for model evaluation\n",
    "    cat_features=cat_cols,  # Categorical features\n",
    "    silent=True  # Suppress output\n",
    ")\n",
    "\n",
    "# Performing randomized search for hyperparameter tuning\n",
    "grid_search_result = cat_rand.randomized_search(\n",
    "    grid,  # Parameter grid\n",
    "    X=train_pool,  # Training data\n",
    "    y=None,  # y is not needed as it's already specified in the Pool\n",
    "    cv=5,  # Number of folds for cross-validation\n",
    "    n_iter=30,  # Number of search iterations\n",
    "    partition_random_seed=RAND,  # Random partitioning of data\n",
    "    calc_cv_statistics=True,  # Calculate cross-validation statistics\n",
    "    search_by_train_test_split=True,  # Use train-test split\n",
    "    refit=True,  # Refit the model after the search\n",
    "    shuffle=True,  # Shuffle the data\n",
    "    stratified=False,  # Stratification is not required for regression\n",
    "    verbose=False,  # Suppress output\n",
    "    plot=False,  # Disable hyperparameter search plotting\n",
    ")"
   ]
  },
  {
   "cell_type": "code",
   "execution_count": 49,
   "id": "318927cd-7fb8-4385-8b76-608d21674685",
   "metadata": {
    "tags": []
   },
   "outputs": [
    {
     "data": {
      "text/plain": [
       "{'max_leaves': 64,\n",
       " 'rsm': 0.7,\n",
       " 'random_strength': 110,\n",
       " 'bootstrap_type': 'MVS',\n",
       " 'iterations': 1300,\n",
       " 'bagging_temperature': 0.2,\n",
       " 'subsample': 0.8,\n",
       " 'depth': 6,\n",
       " 'learning_rate': 0.043444122987293665,\n",
       " 'random_seed': 25}"
      ]
     },
     "execution_count": 49,
     "metadata": {},
     "output_type": "execute_result"
    }
   ],
   "source": [
    "CatBstParams = grid_search_result['params']\n",
    "CatBstParams"
   ]
  },
  {
   "cell_type": "code",
   "execution_count": 50,
   "id": "6db4ceed-9fa1-46c4-aff3-8eedd8a99d1a",
   "metadata": {
    "tags": []
   },
   "outputs": [
    {
     "data": {
      "text/html": [
       "<div>\n",
       "<style scoped>\n",
       "    .dataframe tbody tr th:only-of-type {\n",
       "        vertical-align: middle;\n",
       "    }\n",
       "\n",
       "    .dataframe tbody tr th {\n",
       "        vertical-align: top;\n",
       "    }\n",
       "\n",
       "    .dataframe thead th {\n",
       "        text-align: right;\n",
       "    }\n",
       "</style>\n",
       "<table border=\"1\" class=\"dataframe\">\n",
       "  <thead>\n",
       "    <tr style=\"text-align: right;\">\n",
       "      <th></th>\n",
       "      <th>target_name</th>\n",
       "      <th>loss_fun</th>\n",
       "      <th>train</th>\n",
       "      <th>test</th>\n",
       "      <th>delta</th>\n",
       "    </tr>\n",
       "  </thead>\n",
       "  <tbody>\n",
       "    <tr>\n",
       "      <th>0</th>\n",
       "      <td>price</td>\n",
       "      <td>MAE</td>\n",
       "      <td>649625.05</td>\n",
       "      <td>720007.73</td>\n",
       "      <td>9.78</td>\n",
       "    </tr>\n",
       "  </tbody>\n",
       "</table>\n",
       "</div>"
      ],
      "text/plain": [
       "  target_name loss_fun      train       test  delta\n",
       "0       price      MAE  649625.05  720007.73   9.78"
      ]
     },
     "execution_count": 50,
     "metadata": {},
     "output_type": "execute_result"
    }
   ],
   "source": [
    "round(check_overfitting(cat_rand,\n",
    "                        X_train_,\n",
    "                        y_train_,\n",
    "                        X_test,\n",
    "                        y_test,\n",
    "                        metric_fun=mean_absolute_error,\n",
    "                        target_name='price',\n",
    "                        loss_fun='MAE'), 2)"
   ]
  },
  {
   "cell_type": "code",
   "execution_count": 51,
   "id": "add094b3-31e6-4dc6-b7ba-d1658cd5b7b3",
   "metadata": {
    "tags": []
   },
   "outputs": [
    {
     "data": {
      "text/html": [
       "<div>\n",
       "<style scoped>\n",
       "    .dataframe tbody tr th:only-of-type {\n",
       "        vertical-align: middle;\n",
       "    }\n",
       "\n",
       "    .dataframe tbody tr th {\n",
       "        vertical-align: top;\n",
       "    }\n",
       "\n",
       "    .dataframe thead th {\n",
       "        text-align: right;\n",
       "    }\n",
       "</style>\n",
       "<table border=\"1\" class=\"dataframe\">\n",
       "  <thead>\n",
       "    <tr style=\"text-align: right;\">\n",
       "      <th></th>\n",
       "      <th>MAE</th>\n",
       "      <th>MSE</th>\n",
       "      <th>RMSE</th>\n",
       "      <th>R2 adjusted</th>\n",
       "      <th>MPE_%</th>\n",
       "      <th>MAPE_%</th>\n",
       "      <th>WAPE_%</th>\n",
       "    </tr>\n",
       "    <tr>\n",
       "      <th>model</th>\n",
       "      <th></th>\n",
       "      <th></th>\n",
       "      <th></th>\n",
       "      <th></th>\n",
       "      <th></th>\n",
       "      <th></th>\n",
       "      <th></th>\n",
       "    </tr>\n",
       "  </thead>\n",
       "  <tbody>\n",
       "    <tr>\n",
       "      <th>LightGBM_Tune_1</th>\n",
       "      <td>889874.528</td>\n",
       "      <td>6.006059e+12</td>\n",
       "      <td>2450726.198</td>\n",
       "      <td>0.793</td>\n",
       "      <td>-4.819</td>\n",
       "      <td>13.954</td>\n",
       "      <td>10.954</td>\n",
       "    </tr>\n",
       "    <tr>\n",
       "      <th>LGBM_1_HOLDOUT</th>\n",
       "      <td>876787.958</td>\n",
       "      <td>6.078179e+12</td>\n",
       "      <td>2465396.348</td>\n",
       "      <td>0.790</td>\n",
       "      <td>-4.906</td>\n",
       "      <td>13.762</td>\n",
       "      <td>10.793</td>\n",
       "    </tr>\n",
       "    <tr>\n",
       "      <th>LightGBM_Tune_1_calibrated</th>\n",
       "      <td>898526.811</td>\n",
       "      <td>5.580876e+12</td>\n",
       "      <td>2362387.740</td>\n",
       "      <td>0.808</td>\n",
       "      <td>-5.852</td>\n",
       "      <td>14.183</td>\n",
       "      <td>11.060</td>\n",
       "    </tr>\n",
       "    <tr>\n",
       "      <th>LightGBM_Tune_2</th>\n",
       "      <td>1133782.088</td>\n",
       "      <td>8.954900e+12</td>\n",
       "      <td>2992473.964</td>\n",
       "      <td>0.691</td>\n",
       "      <td>-4.871</td>\n",
       "      <td>15.781</td>\n",
       "      <td>13.956</td>\n",
       "    </tr>\n",
       "    <tr>\n",
       "      <th>LGBM_2_HOLDOUT</th>\n",
       "      <td>1140721.591</td>\n",
       "      <td>9.437304e+12</td>\n",
       "      <td>3072019.516</td>\n",
       "      <td>0.674</td>\n",
       "      <td>-4.853</td>\n",
       "      <td>15.733</td>\n",
       "      <td>14.041</td>\n",
       "    </tr>\n",
       "    <tr>\n",
       "      <th>LightGBM_Tune_2_calibrated</th>\n",
       "      <td>1125607.043</td>\n",
       "      <td>6.856497e+12</td>\n",
       "      <td>2618491.307</td>\n",
       "      <td>0.763</td>\n",
       "      <td>-6.680</td>\n",
       "      <td>16.285</td>\n",
       "      <td>13.855</td>\n",
       "    </tr>\n",
       "    <tr>\n",
       "      <th>CatBoost_Tune</th>\n",
       "      <td>720007.732</td>\n",
       "      <td>4.437468e+12</td>\n",
       "      <td>2106529.903</td>\n",
       "      <td>0.847</td>\n",
       "      <td>-2.625</td>\n",
       "      <td>10.257</td>\n",
       "      <td>8.863</td>\n",
       "    </tr>\n",
       "  </tbody>\n",
       "</table>\n",
       "</div>"
      ],
      "text/plain": [
       "                                    MAE           MSE         RMSE  \\\n",
       "model                                                                \n",
       "LightGBM_Tune_1              889874.528  6.006059e+12  2450726.198   \n",
       "LGBM_1_HOLDOUT               876787.958  6.078179e+12  2465396.348   \n",
       "LightGBM_Tune_1_calibrated   898526.811  5.580876e+12  2362387.740   \n",
       "LightGBM_Tune_2             1133782.088  8.954900e+12  2992473.964   \n",
       "LGBM_2_HOLDOUT              1140721.591  9.437304e+12  3072019.516   \n",
       "LightGBM_Tune_2_calibrated  1125607.043  6.856497e+12  2618491.307   \n",
       "CatBoost_Tune                720007.732  4.437468e+12  2106529.903   \n",
       "\n",
       "                            R2 adjusted  MPE_%  MAPE_%  WAPE_%  \n",
       "model                                                           \n",
       "LightGBM_Tune_1                   0.793 -4.819  13.954  10.954  \n",
       "LGBM_1_HOLDOUT                    0.790 -4.906  13.762  10.793  \n",
       "LightGBM_Tune_1_calibrated        0.808 -5.852  14.183  11.060  \n",
       "LightGBM_Tune_2                   0.691 -4.871  15.781  13.956  \n",
       "LGBM_2_HOLDOUT                    0.674 -4.853  15.733  14.041  \n",
       "LightGBM_Tune_2_calibrated        0.763 -6.680  16.285  13.855  \n",
       "CatBoost_Tune                     0.847 -2.625  10.257   8.863  "
      ]
     },
     "execution_count": 51,
     "metadata": {},
     "output_type": "execute_result"
    }
   ],
   "source": [
    "y_pred = cat_rand.predict(X_test)\n",
    "metrics = pd.concat(\n",
    "    [metrics, get_metrics_regression(y_test=y_test,\n",
    "                                     y_pred=y_pred,\n",
    "                                     X_test=X_test,\n",
    "                                     name='CatBoost_Tune')\n",
    "     ])\n",
    "\n",
    "round(metrics.set_index('model'), 3)"
   ]
  },
  {
   "cell_type": "markdown",
   "id": "bfe83628-a46d-4b67-b896-c6b43e91947f",
   "metadata": {},
   "source": [
    "##### Training with cross validation"
   ]
  },
  {
   "cell_type": "markdown",
   "id": "76eec3ab-974b-4037-9ff9-3d9807500c35",
   "metadata": {},
   "source": [
    "To identify the best parameters, we will conduct training with cross-validation using the discovered parameters. Additionally, we will apply isotonic calibration and select models for stacking based on the resulting metrics."
   ]
  },
  {
   "cell_type": "code",
   "execution_count": 52,
   "id": "e59fae0a-5461-4c2f-97fb-052b41bdda09",
   "metadata": {
    "tags": []
   },
   "outputs": [
    {
     "name": "stdout",
     "output_type": "stream",
     "text": [
      "Fold 1 Validation MAE: 773341.6635\n",
      "Fold 2 Validation MAE: 801914.7024\n",
      "Fold 3 Validation MAE: 802537.8424\n",
      "Fold 4 Validation MAE: 795571.7903\n",
      "Fold 5 Validation MAE: 788347.0162\n"
     ]
    }
   ],
   "source": [
    "score_oof3, predictions_train3, \\\n",
    "    predictions_test3, CatBst = cross_validation_regressor(X_train=X_train,\n",
    "                                                           y_train=y_train,\n",
    "                                                           X_test=X_test,\n",
    "                                                           y_test=y_test,\n",
    "                                                           clf=CatBoostRegressor,\n",
    "                                                           params=CatBstParams,\n",
    "                                                           cat_features=cat_cols,\n",
    "                                                           eval_metric='mae',\n",
    "                                                           early_stop=False,\n",
    "                                                           early_stopping_rounds=100,\n",
    "                                                           num_folds=N_FOLDS,\n",
    "                                                           random_state=RAND);"
   ]
  },
  {
   "cell_type": "code",
   "execution_count": 53,
   "id": "b9d34a98-9042-44fb-9c0f-04f0eb8c754f",
   "metadata": {
    "tags": []
   },
   "outputs": [
    {
     "name": "stdout",
     "output_type": "stream",
     "text": [
      "MAE mean OOF: 792342.6030, std: 10798.1115\n",
      "MAE HOLDOUT: 817362.0949\n"
     ]
    }
   ],
   "source": [
    "test_pred3 = predictions_test3\n",
    "\n",
    "print('MAE mean OOF: %.4f, std: %.4f' %\n",
    "      (np.mean(score_oof3), np.std(score_oof3)))\n",
    "\n",
    "print('MAE HOLDOUT: %.4f' % mean_absolute_error(y_test, test_pred3))"
   ]
  },
  {
   "cell_type": "code",
   "execution_count": 54,
   "id": "65f573b3-2e70-4435-9de6-74ddd5c9011f",
   "metadata": {
    "tags": []
   },
   "outputs": [
    {
     "data": {
      "text/html": [
       "<div>\n",
       "<style scoped>\n",
       "    .dataframe tbody tr th:only-of-type {\n",
       "        vertical-align: middle;\n",
       "    }\n",
       "\n",
       "    .dataframe tbody tr th {\n",
       "        vertical-align: top;\n",
       "    }\n",
       "\n",
       "    .dataframe thead th {\n",
       "        text-align: right;\n",
       "    }\n",
       "</style>\n",
       "<table border=\"1\" class=\"dataframe\">\n",
       "  <thead>\n",
       "    <tr style=\"text-align: right;\">\n",
       "      <th></th>\n",
       "      <th>MAE</th>\n",
       "      <th>MSE</th>\n",
       "      <th>RMSE</th>\n",
       "      <th>R2 adjusted</th>\n",
       "      <th>MPE_%</th>\n",
       "      <th>MAPE_%</th>\n",
       "      <th>WAPE_%</th>\n",
       "    </tr>\n",
       "    <tr>\n",
       "      <th>model</th>\n",
       "      <th></th>\n",
       "      <th></th>\n",
       "      <th></th>\n",
       "      <th></th>\n",
       "      <th></th>\n",
       "      <th></th>\n",
       "      <th></th>\n",
       "    </tr>\n",
       "  </thead>\n",
       "  <tbody>\n",
       "    <tr>\n",
       "      <th>LightGBM_Tune_1</th>\n",
       "      <td>889874.528</td>\n",
       "      <td>6.006059e+12</td>\n",
       "      <td>2450726.198</td>\n",
       "      <td>0.793</td>\n",
       "      <td>-4.819</td>\n",
       "      <td>13.954</td>\n",
       "      <td>10.954</td>\n",
       "    </tr>\n",
       "    <tr>\n",
       "      <th>LGBM_1_HOLDOUT</th>\n",
       "      <td>876787.958</td>\n",
       "      <td>6.078179e+12</td>\n",
       "      <td>2465396.348</td>\n",
       "      <td>0.790</td>\n",
       "      <td>-4.906</td>\n",
       "      <td>13.762</td>\n",
       "      <td>10.793</td>\n",
       "    </tr>\n",
       "    <tr>\n",
       "      <th>LightGBM_Tune_1_calibrated</th>\n",
       "      <td>898526.811</td>\n",
       "      <td>5.580876e+12</td>\n",
       "      <td>2362387.740</td>\n",
       "      <td>0.808</td>\n",
       "      <td>-5.852</td>\n",
       "      <td>14.183</td>\n",
       "      <td>11.060</td>\n",
       "    </tr>\n",
       "    <tr>\n",
       "      <th>LightGBM_Tune_2</th>\n",
       "      <td>1133782.088</td>\n",
       "      <td>8.954900e+12</td>\n",
       "      <td>2992473.964</td>\n",
       "      <td>0.691</td>\n",
       "      <td>-4.871</td>\n",
       "      <td>15.781</td>\n",
       "      <td>13.956</td>\n",
       "    </tr>\n",
       "    <tr>\n",
       "      <th>LGBM_2_HOLDOUT</th>\n",
       "      <td>1140721.591</td>\n",
       "      <td>9.437304e+12</td>\n",
       "      <td>3072019.516</td>\n",
       "      <td>0.674</td>\n",
       "      <td>-4.853</td>\n",
       "      <td>15.733</td>\n",
       "      <td>14.041</td>\n",
       "    </tr>\n",
       "    <tr>\n",
       "      <th>LightGBM_Tune_2_calibrated</th>\n",
       "      <td>1125607.043</td>\n",
       "      <td>6.856497e+12</td>\n",
       "      <td>2618491.307</td>\n",
       "      <td>0.763</td>\n",
       "      <td>-6.680</td>\n",
       "      <td>16.285</td>\n",
       "      <td>13.855</td>\n",
       "    </tr>\n",
       "    <tr>\n",
       "      <th>CatBoost_Tune</th>\n",
       "      <td>720007.732</td>\n",
       "      <td>4.437468e+12</td>\n",
       "      <td>2106529.903</td>\n",
       "      <td>0.847</td>\n",
       "      <td>-2.625</td>\n",
       "      <td>10.257</td>\n",
       "      <td>8.863</td>\n",
       "    </tr>\n",
       "    <tr>\n",
       "      <th>CatBoost_HOLDOUT</th>\n",
       "      <td>817362.095</td>\n",
       "      <td>3.735940e+12</td>\n",
       "      <td>1932858.025</td>\n",
       "      <td>0.871</td>\n",
       "      <td>-1.887</td>\n",
       "      <td>11.580</td>\n",
       "      <td>10.061</td>\n",
       "    </tr>\n",
       "  </tbody>\n",
       "</table>\n",
       "</div>"
      ],
      "text/plain": [
       "                                    MAE           MSE         RMSE  \\\n",
       "model                                                                \n",
       "LightGBM_Tune_1              889874.528  6.006059e+12  2450726.198   \n",
       "LGBM_1_HOLDOUT               876787.958  6.078179e+12  2465396.348   \n",
       "LightGBM_Tune_1_calibrated   898526.811  5.580876e+12  2362387.740   \n",
       "LightGBM_Tune_2             1133782.088  8.954900e+12  2992473.964   \n",
       "LGBM_2_HOLDOUT              1140721.591  9.437304e+12  3072019.516   \n",
       "LightGBM_Tune_2_calibrated  1125607.043  6.856497e+12  2618491.307   \n",
       "CatBoost_Tune                720007.732  4.437468e+12  2106529.903   \n",
       "CatBoost_HOLDOUT             817362.095  3.735940e+12  1932858.025   \n",
       "\n",
       "                            R2 adjusted  MPE_%  MAPE_%  WAPE_%  \n",
       "model                                                           \n",
       "LightGBM_Tune_1                   0.793 -4.819  13.954  10.954  \n",
       "LGBM_1_HOLDOUT                    0.790 -4.906  13.762  10.793  \n",
       "LightGBM_Tune_1_calibrated        0.808 -5.852  14.183  11.060  \n",
       "LightGBM_Tune_2                   0.691 -4.871  15.781  13.956  \n",
       "LGBM_2_HOLDOUT                    0.674 -4.853  15.733  14.041  \n",
       "LightGBM_Tune_2_calibrated        0.763 -6.680  16.285  13.855  \n",
       "CatBoost_Tune                     0.847 -2.625  10.257   8.863  \n",
       "CatBoost_HOLDOUT                  0.871 -1.887  11.580  10.061  "
      ]
     },
     "execution_count": 54,
     "metadata": {},
     "output_type": "execute_result"
    }
   ],
   "source": [
    "metrics = pd.concat(\n",
    "    [metrics, get_metrics_regression(y_test=y_test,\n",
    "                                     y_pred=predictions_test3,\n",
    "                                     X_test=X_test,\n",
    "                                     name='CatBoost_HOLDOUT')\n",
    "     ])\n",
    "\n",
    "round(metrics.set_index('model'), 3)"
   ]
  },
  {
   "cell_type": "code",
   "execution_count": 55,
   "id": "0b91daf1-b112-4dff-ac62-1ba2f60998be",
   "metadata": {
    "tags": []
   },
   "outputs": [
    {
     "data": {
      "image/png": "[encoded data removed]",
      "text/plain": [
       "<Figure size 1200x600 with 2 Axes>"
      ]
     },
     "metadata": {},
     "output_type": "display_data"
    }
   ],
   "source": [
    "plot_residuals_vs_predictions(y_test, predictions_test3)"
   ]
  },
  {
   "cell_type": "code",
   "execution_count": 56,
   "id": "b1447d62-5dcc-4c7f-a10a-d18dadbd3a79",
   "metadata": {
    "tags": []
   },
   "outputs": [
    {
     "name": "stdout",
     "output_type": "stream",
     "text": [
      "MAE HOLDOUT (calibrated): 821341.8404\n"
     ]
    }
   ],
   "source": [
    "# Performing isotonic calibration\n",
    "calibrated_predictions_test3 = calibrate_predictions(\n",
    "    predictions_train3, y_train, predictions_test3)\n",
    "\n",
    "# Evaluation of the MAE metric on calibrated predictions\n",
    "print('MAE HOLDOUT (calibrated): %.4f' %\n",
    "      mean_absolute_error(y_test, calibrated_predictions_test3))"
   ]
  },
  {
   "cell_type": "code",
   "execution_count": 57,
   "id": "e0eb320c-8153-4611-b443-1e79e83f2f8a",
   "metadata": {
    "tags": []
   },
   "outputs": [
    {
     "data": {
      "image/png": "[encoded data removed]",
      "text/plain": [
       "<Figure size 1200x600 with 2 Axes>"
      ]
     },
     "metadata": {},
     "output_type": "display_data"
    }
   ],
   "source": [
    "plot_residuals_vs_predictions(y_test, calibrated_predictions_test3)"
   ]
  },
  {
   "cell_type": "code",
   "execution_count": 58,
   "id": "97bbe4c4-8423-4f23-a0c9-9243af8e7f22",
   "metadata": {
    "tags": []
   },
   "outputs": [
    {
     "data": {
      "text/html": [
       "<div>\n",
       "<style scoped>\n",
       "    .dataframe tbody tr th:only-of-type {\n",
       "        vertical-align: middle;\n",
       "    }\n",
       "\n",
       "    .dataframe tbody tr th {\n",
       "        vertical-align: top;\n",
       "    }\n",
       "\n",
       "    .dataframe thead th {\n",
       "        text-align: right;\n",
       "    }\n",
       "</style>\n",
       "<table border=\"1\" class=\"dataframe\">\n",
       "  <thead>\n",
       "    <tr style=\"text-align: right;\">\n",
       "      <th></th>\n",
       "      <th>MAE</th>\n",
       "      <th>MSE</th>\n",
       "      <th>RMSE</th>\n",
       "      <th>R2 adjusted</th>\n",
       "      <th>MPE_%</th>\n",
       "      <th>MAPE_%</th>\n",
       "      <th>WAPE_%</th>\n",
       "    </tr>\n",
       "    <tr>\n",
       "      <th>model</th>\n",
       "      <th></th>\n",
       "      <th></th>\n",
       "      <th></th>\n",
       "      <th></th>\n",
       "      <th></th>\n",
       "      <th></th>\n",
       "      <th></th>\n",
       "    </tr>\n",
       "  </thead>\n",
       "  <tbody>\n",
       "    <tr>\n",
       "      <th>LightGBM_Tune_1</th>\n",
       "      <td>889874.528</td>\n",
       "      <td>6.006059e+12</td>\n",
       "      <td>2450726.198</td>\n",
       "      <td>0.793</td>\n",
       "      <td>-4.819</td>\n",
       "      <td>13.954</td>\n",
       "      <td>10.954</td>\n",
       "    </tr>\n",
       "    <tr>\n",
       "      <th>LGBM_1_HOLDOUT</th>\n",
       "      <td>876787.958</td>\n",
       "      <td>6.078179e+12</td>\n",
       "      <td>2465396.348</td>\n",
       "      <td>0.790</td>\n",
       "      <td>-4.906</td>\n",
       "      <td>13.762</td>\n",
       "      <td>10.793</td>\n",
       "    </tr>\n",
       "    <tr>\n",
       "      <th>LightGBM_Tune_1_calibrated</th>\n",
       "      <td>898526.811</td>\n",
       "      <td>5.580876e+12</td>\n",
       "      <td>2362387.740</td>\n",
       "      <td>0.808</td>\n",
       "      <td>-5.852</td>\n",
       "      <td>14.183</td>\n",
       "      <td>11.060</td>\n",
       "    </tr>\n",
       "    <tr>\n",
       "      <th>LightGBM_Tune_2</th>\n",
       "      <td>1133782.088</td>\n",
       "      <td>8.954900e+12</td>\n",
       "      <td>2992473.964</td>\n",
       "      <td>0.691</td>\n",
       "      <td>-4.871</td>\n",
       "      <td>15.781</td>\n",
       "      <td>13.956</td>\n",
       "    </tr>\n",
       "    <tr>\n",
       "      <th>LGBM_2_HOLDOUT</th>\n",
       "      <td>1140721.591</td>\n",
       "      <td>9.437304e+12</td>\n",
       "      <td>3072019.516</td>\n",
       "      <td>0.674</td>\n",
       "      <td>-4.853</td>\n",
       "      <td>15.733</td>\n",
       "      <td>14.041</td>\n",
       "    </tr>\n",
       "    <tr>\n",
       "      <th>LightGBM_Tune_2_calibrated</th>\n",
       "      <td>1125607.043</td>\n",
       "      <td>6.856497e+12</td>\n",
       "      <td>2618491.307</td>\n",
       "      <td>0.763</td>\n",
       "      <td>-6.680</td>\n",
       "      <td>16.285</td>\n",
       "      <td>13.855</td>\n",
       "    </tr>\n",
       "    <tr>\n",
       "      <th>CatBoost_Tune</th>\n",
       "      <td>720007.732</td>\n",
       "      <td>4.437468e+12</td>\n",
       "      <td>2106529.903</td>\n",
       "      <td>0.847</td>\n",
       "      <td>-2.625</td>\n",
       "      <td>10.257</td>\n",
       "      <td>8.863</td>\n",
       "    </tr>\n",
       "    <tr>\n",
       "      <th>CatBoost_HOLDOUT</th>\n",
       "      <td>817362.095</td>\n",
       "      <td>3.735940e+12</td>\n",
       "      <td>1932858.025</td>\n",
       "      <td>0.871</td>\n",
       "      <td>-1.887</td>\n",
       "      <td>11.580</td>\n",
       "      <td>10.061</td>\n",
       "    </tr>\n",
       "    <tr>\n",
       "      <th>CatBoost_calibrated</th>\n",
       "      <td>821341.840</td>\n",
       "      <td>3.917388e+12</td>\n",
       "      <td>1979239.186</td>\n",
       "      <td>0.865</td>\n",
       "      <td>-1.984</td>\n",
       "      <td>11.610</td>\n",
       "      <td>10.110</td>\n",
       "    </tr>\n",
       "  </tbody>\n",
       "</table>\n",
       "</div>"
      ],
      "text/plain": [
       "                                    MAE           MSE         RMSE  \\\n",
       "model                                                                \n",
       "LightGBM_Tune_1              889874.528  6.006059e+12  2450726.198   \n",
       "LGBM_1_HOLDOUT               876787.958  6.078179e+12  2465396.348   \n",
       "LightGBM_Tune_1_calibrated   898526.811  5.580876e+12  2362387.740   \n",
       "LightGBM_Tune_2             1133782.088  8.954900e+12  2992473.964   \n",
       "LGBM_2_HOLDOUT              1140721.591  9.437304e+12  3072019.516   \n",
       "LightGBM_Tune_2_calibrated  1125607.043  6.856497e+12  2618491.307   \n",
       "CatBoost_Tune                720007.732  4.437468e+12  2106529.903   \n",
       "CatBoost_HOLDOUT             817362.095  3.735940e+12  1932858.025   \n",
       "CatBoost_calibrated          821341.840  3.917388e+12  1979239.186   \n",
       "\n",
       "                            R2 adjusted  MPE_%  MAPE_%  WAPE_%  \n",
       "model                                                           \n",
       "LightGBM_Tune_1                   0.793 -4.819  13.954  10.954  \n",
       "LGBM_1_HOLDOUT                    0.790 -4.906  13.762  10.793  \n",
       "LightGBM_Tune_1_calibrated        0.808 -5.852  14.183  11.060  \n",
       "LightGBM_Tune_2                   0.691 -4.871  15.781  13.956  \n",
       "LGBM_2_HOLDOUT                    0.674 -4.853  15.733  14.041  \n",
       "LightGBM_Tune_2_calibrated        0.763 -6.680  16.285  13.855  \n",
       "CatBoost_Tune                     0.847 -2.625  10.257   8.863  \n",
       "CatBoost_HOLDOUT                  0.871 -1.887  11.580  10.061  \n",
       "CatBoost_calibrated               0.865 -1.984  11.610  10.110  "
      ]
     },
     "execution_count": 58,
     "metadata": {},
     "output_type": "execute_result"
    }
   ],
   "source": [
    "metrics = pd.concat(\n",
    "    [metrics, get_metrics_regression(y_test=y_test,\n",
    "                                     y_pred=calibrated_predictions_test3,\n",
    "                                     X_test=X_test,\n",
    "                                     name='CatBoost_calibrated')\n",
    "     ])\n",
    "\n",
    "round(metrics.set_index('model'), 3)"
   ]
  },
  {
   "cell_type": "markdown",
   "id": "754318e8-59b0-413b-9cde-25acbad08f46",
   "metadata": {},
   "source": [
    "### Comparison of Results:\n",
    "\n",
    "**LightGBM_Tune_1:**\n",
    "\n",
    "- After cross-validation (LGBM_1_HOLDOUT):\n",
    "  - MAE = 876787.958\n",
    "  - MSE = 6.078179e+12\n",
    "  - RMSE = 2465396.348\n",
    "  - R² adjusted = 0.790\n",
    "  - MPE_% = -4.906\n",
    "  - MAPE_% = 13.762\n",
    "  - WAPE_% = 10.793\n",
    "\n",
    "- After isotonic calibration (LightGBM_Tune_1_calibrated):\n",
    "  - MAE = 898526.811 (increase)\n",
    "  - MSE = 5.580876e+12 (improvement)\n",
    "  - RMSE = 2362387.740 (improvement)\n",
    "  - R² adjusted = 0.808 (improvement)\n",
    "  - MPE_% = -5.852 (deterioration)\n",
    "  - MAPE_% = 14.183 (deterioration)\n",
    "  - WAPE_% = 11.060 (deterioration)\n",
    "\n",
    "**Conclusion**: Isotonic calibration improved the MSE, RMSE, and R² adjusted metrics for LightGBM_Tune_1 but slightly increased MAE and worsened percentage-based error metrics (MPE_%, MAPE_%, WAPE_%). The calibrated model may be useful if RMSE and R² are prioritized.\n",
    "\n",
    "---\n",
    "\n",
    "**LightGBM_Tune_2:**\n",
    "\n",
    "- After cross-validation (LGBM_2_HOLDOUT):\n",
    "  - MAE = 1140721.591\n",
    "  - MSE = 9.437304e+12\n",
    "  - RMSE = 3072019.516\n",
    "  - R² adjusted = 0.674\n",
    "  - MPE_% = -4.853\n",
    "  - MAPE_% = 15.733\n",
    "  - WAPE_% = 14.041\n",
    "\n",
    "- After isotonic calibration (LightGBM_Tune_2_calibrated):\n",
    "  - MAE = 1125607.043 (improvement)\n",
    "  - MSE = 6.856497e+12 (improvement)\n",
    "  - RMSE = 2618491.307 (improvement)\n",
    "  - R² adjusted = 0.763 (improvement)\n",
    "  - MPE_% = -6.680 (deterioration)\n",
    "  - MAPE_% = 16.285 (deterioration)\n",
    "  - WAPE_% = 13.855 (improvement)\n",
    "\n",
    "**Conclusion**: Calibration led to improvements in MSE, RMSE, and R² adjusted metrics for LightGBM_Tune_2 but slightly worsened MPE_% and MAPE_%. Based on this, the calibrated version of LightGBM_Tune_2 may be preferred for better accuracy in RMSE and R².\n",
    "\n",
    "---\n",
    "\n",
    "**CatBoost:**\n",
    "\n",
    "- After cross-validation (CatBoost_HOLDOUT):\n",
    "  - MAE = 817362.095\n",
    "  - MSE = 3.735940e+12\n",
    "  - RMSE = 1932858.025\n",
    "  - R² adjusted = 0.871\n",
    "  - MPE_% = -1.887\n",
    "  - MAPE_% = 11.580\n",
    "  - WAPE_% = 10.061\n",
    "\n",
    "- After isotonic calibration (CatBoost_calibrated):\n",
    "  - MAE = 821341.840 (no significant change)\n",
    "  - MSE = 3.917388e+12 (minimal deterioration)\n",
    "  - RMSE = 1979239.186 (minimal deterioration)\n",
    "  - R² adjusted = 0.865 (slight decrease)\n",
    "  - MPE_% = -1.984 (slight deterioration)\n",
    "  - MAPE_% = 11.610 (no significant change)\n",
    "  - WAPE_% = 10.110 (no significant change)\n",
    "\n",
    "**Conclusion**: For CatBoost, calibration had little to no impact on metrics, indicating the model's stability without calibration. The original version after cross-validation can be used.\n",
    "\n",
    "---\n",
    "\n",
    "**Final Conclusion**:\n",
    "- **LightGBM_Tune_1** shows improvements after isotonic calibration compared to the uncalibrated model after cross-validation. The calibrated version should be used in stacking.\n",
    "- **LightGBM_Tune_2** also demonstrates improvements in RMSE and R² metrics after calibration, although MAPE_% slightly increases. The calibrated version is recommended for stacking.\n",
    "- **CatBoost** exhibits nearly identical results before and after calibration. The uncalibrated version after cross-validation is preferable.\n",
    "\n",
    "Therefore, in stacking, it is advisable to use the calibrated versions of **LightGBM_Tune_1** and **LightGBM_Tune_2**, while the uncalibrated version of **CatBoost** should be selected."
   ]
  },
  {
   "cell_type": "markdown",
   "id": "ad7d4c7a-5f47-415c-bb31-31db76aff3b0",
   "metadata": {},
   "source": [
    "## Stacking\n",
    "\n",
    "Stacking will be performed in two variations:  \n",
    "\n",
    "1) **First variation**:  \n",
    "   - For comparison, we will use all models without calibration.  \n",
    "\n",
    "2) **Second variation**:  \n",
    "   - Based on the analysis of metrics from the previous section, using the **calibrated LightGBM_Tune_1** and **calibrated LightGBM_Tune_2**, while for **CatBoost**, we will use the versions after cross-validation.  "
   ]
  },
  {
   "cell_type": "code",
   "execution_count": 59,
   "id": "480208be-dd3b-4ea0-b0d2-517525df147e",
   "metadata": {
    "tags": []
   },
   "outputs": [
    {
     "name": "stdout",
     "output_type": "stream",
     "text": [
      "Fold 1/5\n",
      "Fold 2/5\n",
      "Fold 3/5\n",
      "Fold 4/5\n",
      "Fold 5/5\n",
      "MAE on the test sample: 832554.4870\n"
     ]
    }
   ],
   "source": [
    "from sklearn.utils.fixes import sp_version, parse_version\n",
    "trained_models = [CatBst, LGBM_1, LGBM_2]  # модели для стекинга\n",
    "\n",
    "meta_model2 = QuantileRegressor(quantile=0.56, alpha=0)\n",
    "\n",
    "feature_sets = [X.columns, features_lgbm_1,\n",
    "                features_lgbm_2]  # наборы признаков\n",
    "cat_features_sets = cat_cols  # Категориальные признаки только для CatBoost\n",
    "\n",
    "calibration_methods = [None, None, None]  # метод калибровки\n",
    "\n",
    "stacking_model1 = StackingRegressorCV(\n",
    "    trained_models, meta_model2, feature_sets, calibration_methods=calibration_methods)\n",
    "\n",
    "stacking_model1.fit_meta_model(X_train, y_train)\n",
    "\n",
    "y_pred = stacking_model1.predict(X_test)\n",
    "\n",
    "# Оцениваем качество модели\n",
    "mae = mean_absolute_error(y_test, y_pred)\n",
    "print(f\"MAE on the test sample: %.4f\" % mae)"
   ]
  },
  {
   "cell_type": "code",
   "execution_count": 60,
   "id": "40332597-65ef-4f46-98b7-4925dfc975e0",
   "metadata": {
    "tags": []
   },
   "outputs": [
    {
     "data": {
      "text/html": [
       "<div>\n",
       "<style scoped>\n",
       "    .dataframe tbody tr th:only-of-type {\n",
       "        vertical-align: middle;\n",
       "    }\n",
       "\n",
       "    .dataframe tbody tr th {\n",
       "        vertical-align: top;\n",
       "    }\n",
       "\n",
       "    .dataframe thead th {\n",
       "        text-align: right;\n",
       "    }\n",
       "</style>\n",
       "<table border=\"1\" class=\"dataframe\">\n",
       "  <thead>\n",
       "    <tr style=\"text-align: right;\">\n",
       "      <th></th>\n",
       "      <th>target_name</th>\n",
       "      <th>loss_fun</th>\n",
       "      <th>train</th>\n",
       "      <th>test</th>\n",
       "      <th>delta</th>\n",
       "    </tr>\n",
       "  </thead>\n",
       "  <tbody>\n",
       "    <tr>\n",
       "      <th>0</th>\n",
       "      <td>price</td>\n",
       "      <td>quantile</td>\n",
       "      <td>770932.186</td>\n",
       "      <td>832554.487</td>\n",
       "      <td>7.402</td>\n",
       "    </tr>\n",
       "  </tbody>\n",
       "</table>\n",
       "</div>"
      ],
      "text/plain": [
       "  target_name  loss_fun       train        test  delta\n",
       "0       price  quantile  770932.186  832554.487  7.402"
      ]
     },
     "execution_count": 60,
     "metadata": {},
     "output_type": "execute_result"
    }
   ],
   "source": [
    "round(check_overfitting(stacking_model1,\n",
    "                  X_train_,\n",
    "                  y_train_,\n",
    "                  X_test,\n",
    "                  y_test,\n",
    "                  metric_fun=mean_absolute_error,\n",
    "                  target_name='price',\n",
    "                  loss_fun='quantile'), 3)"
   ]
  },
  {
   "cell_type": "code",
   "execution_count": 61,
   "id": "2ff687ff-aa10-42f7-83c4-e2aca396fea0",
   "metadata": {
    "tags": []
   },
   "outputs": [
    {
     "data": {
      "text/html": [
       "<div>\n",
       "<style scoped>\n",
       "    .dataframe tbody tr th:only-of-type {\n",
       "        vertical-align: middle;\n",
       "    }\n",
       "\n",
       "    .dataframe tbody tr th {\n",
       "        vertical-align: top;\n",
       "    }\n",
       "\n",
       "    .dataframe thead th {\n",
       "        text-align: right;\n",
       "    }\n",
       "</style>\n",
       "<table border=\"1\" class=\"dataframe\">\n",
       "  <thead>\n",
       "    <tr style=\"text-align: right;\">\n",
       "      <th></th>\n",
       "      <th>MAE</th>\n",
       "      <th>MSE</th>\n",
       "      <th>RMSE</th>\n",
       "      <th>R2 adjusted</th>\n",
       "      <th>MPE_%</th>\n",
       "      <th>MAPE_%</th>\n",
       "      <th>WAPE_%</th>\n",
       "    </tr>\n",
       "    <tr>\n",
       "      <th>model</th>\n",
       "      <th></th>\n",
       "      <th></th>\n",
       "      <th></th>\n",
       "      <th></th>\n",
       "      <th></th>\n",
       "      <th></th>\n",
       "      <th></th>\n",
       "    </tr>\n",
       "  </thead>\n",
       "  <tbody>\n",
       "    <tr>\n",
       "      <th>LightGBM_Tune_1</th>\n",
       "      <td>889874.528</td>\n",
       "      <td>6.006059e+12</td>\n",
       "      <td>2450726.198</td>\n",
       "      <td>0.793</td>\n",
       "      <td>-4.819</td>\n",
       "      <td>13.954</td>\n",
       "      <td>10.954</td>\n",
       "    </tr>\n",
       "    <tr>\n",
       "      <th>LGBM_1_HOLDOUT</th>\n",
       "      <td>876787.958</td>\n",
       "      <td>6.078179e+12</td>\n",
       "      <td>2465396.348</td>\n",
       "      <td>0.790</td>\n",
       "      <td>-4.906</td>\n",
       "      <td>13.762</td>\n",
       "      <td>10.793</td>\n",
       "    </tr>\n",
       "    <tr>\n",
       "      <th>LightGBM_Tune_1_calibrated</th>\n",
       "      <td>898526.811</td>\n",
       "      <td>5.580876e+12</td>\n",
       "      <td>2362387.740</td>\n",
       "      <td>0.808</td>\n",
       "      <td>-5.852</td>\n",
       "      <td>14.183</td>\n",
       "      <td>11.060</td>\n",
       "    </tr>\n",
       "    <tr>\n",
       "      <th>LightGBM_Tune_2</th>\n",
       "      <td>1133782.088</td>\n",
       "      <td>8.954900e+12</td>\n",
       "      <td>2992473.964</td>\n",
       "      <td>0.691</td>\n",
       "      <td>-4.871</td>\n",
       "      <td>15.781</td>\n",
       "      <td>13.956</td>\n",
       "    </tr>\n",
       "    <tr>\n",
       "      <th>LGBM_2_HOLDOUT</th>\n",
       "      <td>1140721.591</td>\n",
       "      <td>9.437304e+12</td>\n",
       "      <td>3072019.516</td>\n",
       "      <td>0.674</td>\n",
       "      <td>-4.853</td>\n",
       "      <td>15.733</td>\n",
       "      <td>14.041</td>\n",
       "    </tr>\n",
       "    <tr>\n",
       "      <th>LightGBM_Tune_2_calibrated</th>\n",
       "      <td>1125607.043</td>\n",
       "      <td>6.856497e+12</td>\n",
       "      <td>2618491.307</td>\n",
       "      <td>0.763</td>\n",
       "      <td>-6.680</td>\n",
       "      <td>16.285</td>\n",
       "      <td>13.855</td>\n",
       "    </tr>\n",
       "    <tr>\n",
       "      <th>CatBoost_Tune</th>\n",
       "      <td>720007.732</td>\n",
       "      <td>4.437468e+12</td>\n",
       "      <td>2106529.903</td>\n",
       "      <td>0.847</td>\n",
       "      <td>-2.625</td>\n",
       "      <td>10.257</td>\n",
       "      <td>8.863</td>\n",
       "    </tr>\n",
       "    <tr>\n",
       "      <th>CatBoost_HOLDOUT</th>\n",
       "      <td>817362.095</td>\n",
       "      <td>3.735940e+12</td>\n",
       "      <td>1932858.025</td>\n",
       "      <td>0.871</td>\n",
       "      <td>-1.887</td>\n",
       "      <td>11.580</td>\n",
       "      <td>10.061</td>\n",
       "    </tr>\n",
       "    <tr>\n",
       "      <th>CatBoost_calibrated</th>\n",
       "      <td>821341.840</td>\n",
       "      <td>3.917388e+12</td>\n",
       "      <td>1979239.186</td>\n",
       "      <td>0.865</td>\n",
       "      <td>-1.984</td>\n",
       "      <td>11.610</td>\n",
       "      <td>10.110</td>\n",
       "    </tr>\n",
       "    <tr>\n",
       "      <th>Stacking_model</th>\n",
       "      <td>832554.487</td>\n",
       "      <td>4.246492e+12</td>\n",
       "      <td>2060701.788</td>\n",
       "      <td>0.853</td>\n",
       "      <td>-2.984</td>\n",
       "      <td>11.972</td>\n",
       "      <td>10.248</td>\n",
       "    </tr>\n",
       "  </tbody>\n",
       "</table>\n",
       "</div>"
      ],
      "text/plain": [
       "                                    MAE           MSE         RMSE  \\\n",
       "model                                                                \n",
       "LightGBM_Tune_1              889874.528  6.006059e+12  2450726.198   \n",
       "LGBM_1_HOLDOUT               876787.958  6.078179e+12  2465396.348   \n",
       "LightGBM_Tune_1_calibrated   898526.811  5.580876e+12  2362387.740   \n",
       "LightGBM_Tune_2             1133782.088  8.954900e+12  2992473.964   \n",
       "LGBM_2_HOLDOUT              1140721.591  9.437304e+12  3072019.516   \n",
       "LightGBM_Tune_2_calibrated  1125607.043  6.856497e+12  2618491.307   \n",
       "CatBoost_Tune                720007.732  4.437468e+12  2106529.903   \n",
       "CatBoost_HOLDOUT             817362.095  3.735940e+12  1932858.025   \n",
       "CatBoost_calibrated          821341.840  3.917388e+12  1979239.186   \n",
       "Stacking_model               832554.487  4.246492e+12  2060701.788   \n",
       "\n",
       "                            R2 adjusted  MPE_%  MAPE_%  WAPE_%  \n",
       "model                                                           \n",
       "LightGBM_Tune_1                   0.793 -4.819  13.954  10.954  \n",
       "LGBM_1_HOLDOUT                    0.790 -4.906  13.762  10.793  \n",
       "LightGBM_Tune_1_calibrated        0.808 -5.852  14.183  11.060  \n",
       "LightGBM_Tune_2                   0.691 -4.871  15.781  13.956  \n",
       "LGBM_2_HOLDOUT                    0.674 -4.853  15.733  14.041  \n",
       "LightGBM_Tune_2_calibrated        0.763 -6.680  16.285  13.855  \n",
       "CatBoost_Tune                     0.847 -2.625  10.257   8.863  \n",
       "CatBoost_HOLDOUT                  0.871 -1.887  11.580  10.061  \n",
       "CatBoost_calibrated               0.865 -1.984  11.610  10.110  \n",
       "Stacking_model                    0.853 -2.984  11.972  10.248  "
      ]
     },
     "execution_count": 61,
     "metadata": {},
     "output_type": "execute_result"
    }
   ],
   "source": [
    "metrics = pd.concat(\n",
    "    [metrics, get_metrics_regression(y_test=y_test,\n",
    "                                     y_pred=y_pred,\n",
    "                                     X_test=X_test,\n",
    "                                     name='Stacking_model')\n",
    "     ])\n",
    "\n",
    "round(metrics.set_index('model'), 3)"
   ]
  },
  {
   "cell_type": "code",
   "execution_count": 62,
   "id": "09aa66d8-5629-4aac-93d5-326d4896d305",
   "metadata": {
    "tags": []
   },
   "outputs": [
    {
     "name": "stdout",
     "output_type": "stream",
     "text": [
      "Fold 1/5\n",
      "Fold 2/5\n",
      "Fold 3/5\n",
      "Fold 4/5\n",
      "Fold 5/5\n",
      "MAE on the test sample: 838672.58\n"
     ]
    }
   ],
   "source": [
    "trained_models = [CatBst, LGBM_1, LGBM_2]  # модели для стекинга\n",
    "\n",
    "meta_model = QuantileRegressor(quantile=0.55, alpha=0)\n",
    "\n",
    "feature_sets = [X.columns, features_lgbm_1, features_lgbm_2]\n",
    "\n",
    "cat_features_sets = cat_cols  # Категориальные признаки только для CatBoost\n",
    "\n",
    "calibration_methods = [None, 'isotonic', 'isotonic']  # метод калибровки\n",
    "\n",
    "stacking_model0 = StackingRegressorCV(\n",
    "    trained_models, meta_model, feature_sets, calibration_methods=calibration_methods)\n",
    "stacking_model0.fit_meta_model(X_train, y_train)\n",
    "\n",
    "y_pred = stacking_model0.predict(X_test)\n",
    "\n",
    "# Оцениваем качество модели\n",
    "mae = mean_absolute_error(y_test, y_pred)\n",
    "print(f\"MAE on the test sample: %.2f\" % mae)"
   ]
  },
  {
   "cell_type": "code",
   "execution_count": 63,
   "id": "e4b947bb-6bd6-4a70-baec-6e08a7d01443",
   "metadata": {
    "tags": []
   },
   "outputs": [
    {
     "data": {
      "text/html": [
       "<div>\n",
       "<style scoped>\n",
       "    .dataframe tbody tr th:only-of-type {\n",
       "        vertical-align: middle;\n",
       "    }\n",
       "\n",
       "    .dataframe tbody tr th {\n",
       "        vertical-align: top;\n",
       "    }\n",
       "\n",
       "    .dataframe thead th {\n",
       "        text-align: right;\n",
       "    }\n",
       "</style>\n",
       "<table border=\"1\" class=\"dataframe\">\n",
       "  <thead>\n",
       "    <tr style=\"text-align: right;\">\n",
       "      <th></th>\n",
       "      <th>target_name</th>\n",
       "      <th>loss_fun</th>\n",
       "      <th>train</th>\n",
       "      <th>test</th>\n",
       "      <th>delta</th>\n",
       "    </tr>\n",
       "  </thead>\n",
       "  <tbody>\n",
       "    <tr>\n",
       "      <th>0</th>\n",
       "      <td>price</td>\n",
       "      <td>quantile</td>\n",
       "      <td>768737.489</td>\n",
       "      <td>838672.575</td>\n",
       "      <td>8.339</td>\n",
       "    </tr>\n",
       "  </tbody>\n",
       "</table>\n",
       "</div>"
      ],
      "text/plain": [
       "  target_name  loss_fun       train        test  delta\n",
       "0       price  quantile  768737.489  838672.575  8.339"
      ]
     },
     "execution_count": 63,
     "metadata": {},
     "output_type": "execute_result"
    }
   ],
   "source": [
    "round(check_overfitting(stacking_model0,\n",
    "                        X_train_,\n",
    "                        y_train_,\n",
    "                        X_test,\n",
    "                        y_test,\n",
    "                        metric_fun=mean_absolute_error,\n",
    "                        target_name='price',\n",
    "                        loss_fun='quantile'), 3)"
   ]
  },
  {
   "cell_type": "code",
   "execution_count": 64,
   "id": "5aefc51d-770c-4877-a6d3-d74dad73d168",
   "metadata": {
    "tags": []
   },
   "outputs": [
    {
     "data": {
      "text/html": [
       "<div>\n",
       "<style scoped>\n",
       "    .dataframe tbody tr th:only-of-type {\n",
       "        vertical-align: middle;\n",
       "    }\n",
       "\n",
       "    .dataframe tbody tr th {\n",
       "        vertical-align: top;\n",
       "    }\n",
       "\n",
       "    .dataframe thead th {\n",
       "        text-align: right;\n",
       "    }\n",
       "</style>\n",
       "<table border=\"1\" class=\"dataframe\">\n",
       "  <thead>\n",
       "    <tr style=\"text-align: right;\">\n",
       "      <th></th>\n",
       "      <th>MAE</th>\n",
       "      <th>MSE</th>\n",
       "      <th>RMSE</th>\n",
       "      <th>R2 adjusted</th>\n",
       "      <th>MPE_%</th>\n",
       "      <th>MAPE_%</th>\n",
       "      <th>WAPE_%</th>\n",
       "    </tr>\n",
       "    <tr>\n",
       "      <th>model</th>\n",
       "      <th></th>\n",
       "      <th></th>\n",
       "      <th></th>\n",
       "      <th></th>\n",
       "      <th></th>\n",
       "      <th></th>\n",
       "      <th></th>\n",
       "    </tr>\n",
       "  </thead>\n",
       "  <tbody>\n",
       "    <tr>\n",
       "      <th>LightGBM_Tune_1</th>\n",
       "      <td>889874.528</td>\n",
       "      <td>6.006059e+12</td>\n",
       "      <td>2450726.198</td>\n",
       "      <td>0.793</td>\n",
       "      <td>-4.819</td>\n",
       "      <td>13.954</td>\n",
       "      <td>10.954</td>\n",
       "    </tr>\n",
       "    <tr>\n",
       "      <th>LGBM_1_HOLDOUT</th>\n",
       "      <td>876787.958</td>\n",
       "      <td>6.078179e+12</td>\n",
       "      <td>2465396.348</td>\n",
       "      <td>0.790</td>\n",
       "      <td>-4.906</td>\n",
       "      <td>13.762</td>\n",
       "      <td>10.793</td>\n",
       "    </tr>\n",
       "    <tr>\n",
       "      <th>LightGBM_Tune_1_calibrated</th>\n",
       "      <td>898526.811</td>\n",
       "      <td>5.580876e+12</td>\n",
       "      <td>2362387.740</td>\n",
       "      <td>0.808</td>\n",
       "      <td>-5.852</td>\n",
       "      <td>14.183</td>\n",
       "      <td>11.060</td>\n",
       "    </tr>\n",
       "    <tr>\n",
       "      <th>LightGBM_Tune_2</th>\n",
       "      <td>1133782.088</td>\n",
       "      <td>8.954900e+12</td>\n",
       "      <td>2992473.964</td>\n",
       "      <td>0.691</td>\n",
       "      <td>-4.871</td>\n",
       "      <td>15.781</td>\n",
       "      <td>13.956</td>\n",
       "    </tr>\n",
       "    <tr>\n",
       "      <th>LGBM_2_HOLDOUT</th>\n",
       "      <td>1140721.591</td>\n",
       "      <td>9.437304e+12</td>\n",
       "      <td>3072019.516</td>\n",
       "      <td>0.674</td>\n",
       "      <td>-4.853</td>\n",
       "      <td>15.733</td>\n",
       "      <td>14.041</td>\n",
       "    </tr>\n",
       "    <tr>\n",
       "      <th>LightGBM_Tune_2_calibrated</th>\n",
       "      <td>1125607.043</td>\n",
       "      <td>6.856497e+12</td>\n",
       "      <td>2618491.307</td>\n",
       "      <td>0.763</td>\n",
       "      <td>-6.680</td>\n",
       "      <td>16.285</td>\n",
       "      <td>13.855</td>\n",
       "    </tr>\n",
       "    <tr>\n",
       "      <th>CatBoost_Tune</th>\n",
       "      <td>720007.732</td>\n",
       "      <td>4.437468e+12</td>\n",
       "      <td>2106529.903</td>\n",
       "      <td>0.847</td>\n",
       "      <td>-2.625</td>\n",
       "      <td>10.257</td>\n",
       "      <td>8.863</td>\n",
       "    </tr>\n",
       "    <tr>\n",
       "      <th>CatBoost_HOLDOUT</th>\n",
       "      <td>817362.095</td>\n",
       "      <td>3.735940e+12</td>\n",
       "      <td>1932858.025</td>\n",
       "      <td>0.871</td>\n",
       "      <td>-1.887</td>\n",
       "      <td>11.580</td>\n",
       "      <td>10.061</td>\n",
       "    </tr>\n",
       "    <tr>\n",
       "      <th>CatBoost_calibrated</th>\n",
       "      <td>821341.840</td>\n",
       "      <td>3.917388e+12</td>\n",
       "      <td>1979239.186</td>\n",
       "      <td>0.865</td>\n",
       "      <td>-1.984</td>\n",
       "      <td>11.610</td>\n",
       "      <td>10.110</td>\n",
       "    </tr>\n",
       "    <tr>\n",
       "      <th>Stacking_model</th>\n",
       "      <td>832554.487</td>\n",
       "      <td>4.246492e+12</td>\n",
       "      <td>2060701.788</td>\n",
       "      <td>0.853</td>\n",
       "      <td>-2.984</td>\n",
       "      <td>11.972</td>\n",
       "      <td>10.248</td>\n",
       "    </tr>\n",
       "    <tr>\n",
       "      <th>Stacking_model_calibrated</th>\n",
       "      <td>838672.575</td>\n",
       "      <td>4.227449e+12</td>\n",
       "      <td>2056076.200</td>\n",
       "      <td>0.854</td>\n",
       "      <td>-2.790</td>\n",
       "      <td>11.969</td>\n",
       "      <td>10.323</td>\n",
       "    </tr>\n",
       "  </tbody>\n",
       "</table>\n",
       "</div>"
      ],
      "text/plain": [
       "                                    MAE           MSE         RMSE  \\\n",
       "model                                                                \n",
       "LightGBM_Tune_1              889874.528  6.006059e+12  2450726.198   \n",
       "LGBM_1_HOLDOUT               876787.958  6.078179e+12  2465396.348   \n",
       "LightGBM_Tune_1_calibrated   898526.811  5.580876e+12  2362387.740   \n",
       "LightGBM_Tune_2             1133782.088  8.954900e+12  2992473.964   \n",
       "LGBM_2_HOLDOUT              1140721.591  9.437304e+12  3072019.516   \n",
       "LightGBM_Tune_2_calibrated  1125607.043  6.856497e+12  2618491.307   \n",
       "CatBoost_Tune                720007.732  4.437468e+12  2106529.903   \n",
       "CatBoost_HOLDOUT             817362.095  3.735940e+12  1932858.025   \n",
       "CatBoost_calibrated          821341.840  3.917388e+12  1979239.186   \n",
       "Stacking_model               832554.487  4.246492e+12  2060701.788   \n",
       "Stacking_model_calibrated    838672.575  4.227449e+12  2056076.200   \n",
       "\n",
       "                            R2 adjusted  MPE_%  MAPE_%  WAPE_%  \n",
       "model                                                           \n",
       "LightGBM_Tune_1                   0.793 -4.819  13.954  10.954  \n",
       "LGBM_1_HOLDOUT                    0.790 -4.906  13.762  10.793  \n",
       "LightGBM_Tune_1_calibrated        0.808 -5.852  14.183  11.060  \n",
       "LightGBM_Tune_2                   0.691 -4.871  15.781  13.956  \n",
       "LGBM_2_HOLDOUT                    0.674 -4.853  15.733  14.041  \n",
       "LightGBM_Tune_2_calibrated        0.763 -6.680  16.285  13.855  \n",
       "CatBoost_Tune                     0.847 -2.625  10.257   8.863  \n",
       "CatBoost_HOLDOUT                  0.871 -1.887  11.580  10.061  \n",
       "CatBoost_calibrated               0.865 -1.984  11.610  10.110  \n",
       "Stacking_model                    0.853 -2.984  11.972  10.248  \n",
       "Stacking_model_calibrated         0.854 -2.790  11.969  10.323  "
      ]
     },
     "execution_count": 64,
     "metadata": {},
     "output_type": "execute_result"
    }
   ],
   "source": [
    "metrics = pd.concat(\n",
    "    [metrics, get_metrics_regression(y_test=y_test,\n",
    "                                     y_pred=y_pred,\n",
    "                                     X_test=X_test,\n",
    "                                     name='Stacking_model_calibrated')\n",
    "     ])\n",
    "\n",
    "round(metrics.set_index('model'), 3)"
   ]
  },
  {
   "cell_type": "markdown",
   "id": "ed1f080c-8b37-49be-b6a6-155239dd7c65",
   "metadata": {},
   "source": [
    "The final analysis of the models shows that the stacking models (`Stacking_model_calibrated` and `Stacking_model`) generally demonstrate strong results compared to the LightGBM models.  \n",
    "\n",
    "### Final Conclusions:\n",
    "- **The stacking model** delivers solid results, showing improvement in RMSE and MAE metrics compared to the LightGBM models, while not significantly lagging behind the CatBoost models. This makes it a strong candidate for use, as it combines the best characteristics of both models.\n",
    "- **CatBoost_Tune** remains the strongest in explanatory power (R²) and demonstrates low MAPE and WAPE values, indicating high accuracy and stability. This result can be considered if explanatory power and accuracy on individual values are crucial.\n",
    "\n",
    "Thus, as the final model, it is reasonable to use **the stacking model** (e.g., `Stacking_model`), which showed good overall results across the MAE, MSE, and RMSE metrics.  "
   ]
  },
  {
   "cell_type": "code",
   "execution_count": null,
   "id": "28f8bffd-8ca4-4bd2-8eab-6b0437e0f2cc",
   "metadata": {},
   "outputs": [],
   "source": []
  }
 ],
 "metadata": {
  "kernelspec": {
   "display_name": "Python 3 (ipykernel)",
   "language": "python",
   "name": "python3"
  },
  "language_info": {
   "codemirror_mode": {
    "name": "ipython",
    "version": 3
   },
   "file_extension": ".py",
   "mimetype": "text/x-python",
   "name": "python",
   "nbconvert_exporter": "python",
   "pygments_lexer": "ipython3",
   "version": "3.10.11"
  },
  "toc": {
   "base_numbering": 1,
   "nav_menu": {},
   "number_sections": true,
   "sideBar": true,
   "skip_h1_title": false,
   "title_cell": "Table of Contents",
   "title_sidebar": "Contents",
   "toc_cell": false,
   "toc_position": {},
   "toc_section_display": true,
   "toc_window_display": true
  },
  "widgets": {
   "application/vnd.jupyter.widget-state+json": {
    "state": {
     "0537b586887b4f3493fd8a999933f18e": {
      "model_module": "@jupyter-widgets/controls",
      "model_module_version": "2.0.0",
      "model_name": "FloatProgressModel",
      "state": {
       "bar_style": "success",
       "layout": "IPY_MODEL_a0cd0017e74d478f807036ae174f49ff",
       "max": 7,
       "style": "IPY_MODEL_99ba4a9d02d64777ad29c9419a159f32",
       "value": 7
      }
     },
     "12037abf1d2e4f2abcc5d91df4edc2e2": {
      "model_module": "@jupyter-widgets/controls",
      "model_module_version": "2.0.0",
      "model_name": "HTMLStyleModel",
      "state": {
       "description_width": "",
       "font_size": null,
       "text_color": null
      }
     },
     "2797489c50d04ee6a98acf4e80541494": {
      "model_module": "@jupyter-widgets/base",
      "model_module_version": "2.0.0",
      "model_name": "LayoutModel",
      "state": {}
     },
     "27d6c480edc14b4085163e9cf8ca0d17": {
      "model_module": "@jupyter-widgets/controls",
      "model_module_version": "2.0.0",
      "model_name": "HTMLModel",
      "state": {
       "layout": "IPY_MODEL_bf78d2a80286419883e188e72ef54cb5",
       "style": "IPY_MODEL_b25d093755b6478d96c5f6f07ad48651",
       "value": " 7/7 [02:50&lt;00:00, 25.59s/it]"
      }
     },
     "291678d0e3ee41338c0d04646f3346db": {
      "model_module": "@jupyter-widgets/base",
      "model_module_version": "2.0.0",
      "model_name": "LayoutModel",
      "state": {}
     },
     "43eabf215b9545038132097c5f7592b6": {
      "model_module": "@jupyter-widgets/controls",
      "model_module_version": "2.0.0",
      "model_name": "FloatProgressModel",
      "state": {
       "bar_style": "success",
       "layout": "IPY_MODEL_7c523d1c75ed41659c90f282f79d7638",
       "max": 7,
       "style": "IPY_MODEL_ff318403c1ff4932bf67d1372f1b19cb",
       "value": 7
      }
     },
     "4488baa1c7704c95abf5fac3ab8f03ea": {
      "model_module": "@jupyter-widgets/base",
      "model_module_version": "2.0.0",
      "model_name": "LayoutModel",
      "state": {}
     },
     "6aa3ac760f9e4dac97859040cb8f4586": {
      "model_module": "@jupyter-widgets/base",
      "model_module_version": "2.0.0",
      "model_name": "LayoutModel",
      "state": {}
     },
     "6b24da23d2e94097972e79c4a6335c52": {
      "model_module": "@jupyter-widgets/controls",
      "model_module_version": "2.0.0",
      "model_name": "HTMLModel",
      "state": {
       "layout": "IPY_MODEL_6aa3ac760f9e4dac97859040cb8f4586",
       "style": "IPY_MODEL_96c94c94f5754f56a3b44fbfdb338a66",
       "value": " 7/7 [01:03&lt;00:00,  5.91s/it]"
      }
     },
     "79de3de3749f4039a3c05ae7ff1ae459": {
      "model_module": "@jupyter-widgets/base",
      "model_module_version": "2.0.0",
      "model_name": "LayoutModel",
      "state": {}
     },
     "7c523d1c75ed41659c90f282f79d7638": {
      "model_module": "@jupyter-widgets/base",
      "model_module_version": "2.0.0",
      "model_name": "LayoutModel",
      "state": {}
     },
     "9364a7ee2a1c42f1b06ee36db5fd1133": {
      "model_module": "@jupyter-widgets/controls",
      "model_module_version": "2.0.0",
      "model_name": "HBoxModel",
      "state": {
       "children": [
        "IPY_MODEL_fd0a749e533e48c39d3c5200fa6cdd21",
        "IPY_MODEL_0537b586887b4f3493fd8a999933f18e",
        "IPY_MODEL_27d6c480edc14b4085163e9cf8ca0d17"
       ],
       "layout": "IPY_MODEL_291678d0e3ee41338c0d04646f3346db"
      }
     },
     "96c94c94f5754f56a3b44fbfdb338a66": {
      "model_module": "@jupyter-widgets/controls",
      "model_module_version": "2.0.0",
      "model_name": "HTMLStyleModel",
      "state": {
       "description_width": "",
       "font_size": null,
       "text_color": null
      }
     },
     "99ba4a9d02d64777ad29c9419a159f32": {
      "model_module": "@jupyter-widgets/controls",
      "model_module_version": "2.0.0",
      "model_name": "ProgressStyleModel",
      "state": {
       "description_width": ""
      }
     },
     "9b1dfac03f1841d7a7499df9cabe25ba": {
      "model_module": "@jupyter-widgets/controls",
      "model_module_version": "2.0.0",
      "model_name": "HBoxModel",
      "state": {
       "children": [
        "IPY_MODEL_fbe0768a3d55479997c2ea9b478812b5",
        "IPY_MODEL_43eabf215b9545038132097c5f7592b6",
        "IPY_MODEL_6b24da23d2e94097972e79c4a6335c52"
       ],
       "layout": "IPY_MODEL_4488baa1c7704c95abf5fac3ab8f03ea"
      }
     },
     "a0cd0017e74d478f807036ae174f49ff": {
      "model_module": "@jupyter-widgets/base",
      "model_module_version": "2.0.0",
      "model_name": "LayoutModel",
      "state": {}
     },
     "b25d093755b6478d96c5f6f07ad48651": {
      "model_module": "@jupyter-widgets/controls",
      "model_module_version": "2.0.0",
      "model_name": "HTMLStyleModel",
      "state": {
       "description_width": "",
       "font_size": null,
       "text_color": null
      }
     },
     "bf78d2a80286419883e188e72ef54cb5": {
      "model_module": "@jupyter-widgets/base",
      "model_module_version": "2.0.0",
      "model_name": "LayoutModel",
      "state": {}
     },
     "cb273810dff9448d9e594092d50a7018": {
      "model_module": "@jupyter-widgets/controls",
      "model_module_version": "2.0.0",
      "model_name": "HTMLStyleModel",
      "state": {
       "description_width": "",
       "font_size": null,
       "text_color": null
      }
     },
     "fbe0768a3d55479997c2ea9b478812b5": {
      "model_module": "@jupyter-widgets/controls",
      "model_module_version": "2.0.0",
      "model_name": "HTMLModel",
      "state": {
       "layout": "IPY_MODEL_79de3de3749f4039a3c05ae7ff1ae459",
       "style": "IPY_MODEL_cb273810dff9448d9e594092d50a7018",
       "value": "Best trial: 0. Best value: 1.14814e+06: 100%"
      }
     },
     "fd0a749e533e48c39d3c5200fa6cdd21": {
      "model_module": "@jupyter-widgets/controls",
      "model_module_version": "2.0.0",
      "model_name": "HTMLModel",
      "state": {
       "layout": "IPY_MODEL_2797489c50d04ee6a98acf4e80541494",
       "style": "IPY_MODEL_12037abf1d2e4f2abcc5d91df4edc2e2",
       "value": "Best trial: 5. Best value: 914800: 100%"
      }
     },
     "ff318403c1ff4932bf67d1372f1b19cb": {
      "model_module": "@jupyter-widgets/controls",
      "model_module_version": "2.0.0",
      "model_name": "ProgressStyleModel",
      "state": {
       "description_width": ""
      }
     }
    },
    "version_major": 2,
    "version_minor": 0
   }
  }
 },
 "nbformat": 4,
 "nbformat_minor": 5
}
